{
 "cells": [
  {
   "cell_type": "markdown",
   "id": "a4fd4bcc-7922-4b47-80d9-ef9d68715f02",
   "metadata": {},
   "source": [
    "# Python basics"
   ]
  },
  {
   "cell_type": "markdown",
   "id": "c856b36e-4c75-4365-944c-f2022b1906ec",
   "metadata": {},
   "source": [
    "## Whitespace\n",
    "\n",
    "* whitespace in the form of **indentation matters**, e.g. (note the second line's indentation):\n",
    "  ```\n",
    "  if condition:\n",
    "      ...\n",
    "  ```\n",
    "    * there's semantic meaning here, the `...` is the code to be executed when the condition is true\n",
    "* blank space as opposed to tab is recommended ([PEP8](https://peps.python.org/pep-0008/)), 4 spaces per indentation level are customary"
   ]
  },
  {
   "cell_type": "markdown",
   "id": "d5181263-4584-4c98-bcb8-e2b808d40cec",
   "metadata": {},
   "source": [
    "## Comments\n",
    "\n",
    "* A hash sign (`#`) introduces a single-line comment\n",
    "* There are no multi-line comments per-se, but one can (ab)use triple-quoted links instead (more on that later)"
   ]
  },
  {
   "cell_type": "markdown",
   "id": "eabd741b-3801-4626-9b44-c4a31d5f7cb6",
   "metadata": {},
   "source": [
    "## Hello world"
   ]
  },
  {
   "cell_type": "markdown",
   "id": "30de9ec2-44bb-4ba3-a632-dc60fe1ba581",
   "metadata": {},
   "source": [
    "## What are variables?"
   ]
  },
  {
   "cell_type": "markdown",
   "id": "58fe3ec3-ec1e-4f01-ac7a-cf415fc89537",
   "metadata": {},
   "source": [
    "## What are types?"
   ]
  },
  {
   "cell_type": "markdown",
   "id": "21fb3d05-b266-44ef-aa97-30d964bfc2fd",
   "metadata": {},
   "source": [
    "## Python is object-oriented, what does that mean?"
   ]
  },
  {
   "cell_type": "markdown",
   "id": "93ccb7d2-6479-4bd8-9d19-39b1434e91d9",
   "metadata": {},
   "source": [
    "## Errors (exceptions)\n",
    "\n",
    "* `raise`d, not `throw`n in Python"
   ]
  },
  {
   "cell_type": "markdown",
   "id": "3f1dc155-0e22-4cb8-b78e-099f6100cc75",
   "metadata": {},
   "source": [
    "## Assignments (... variables continued)\n",
    "\n",
    "* Parameters are passed by assignment (more on that later)"
   ]
  },
  {
   "cell_type": "markdown",
   "id": "e11671e9-d06a-49b9-90b5-2008e29dce94",
   "metadata": {},
   "source": [
    "## Types continued: `bool`"
   ]
  },
  {
   "cell_type": "markdown",
   "id": "4db9f404-afdf-4b00-bac3-7ac7bd462e69",
   "metadata": {},
   "source": [
    "## Types continued: `int`"
   ]
  },
  {
   "cell_type": "markdown",
   "id": "7851ba37-a2bb-4d61-8d5a-c5f79e72980d",
   "metadata": {},
   "source": [
    "## Types continued: `float`"
   ]
  },
  {
   "cell_type": "markdown",
   "id": "6af4a4ed-9653-4775-bfa5-d2cab6dfa0c3",
   "metadata": {},
   "source": [
    "## Built-in function: `len()`"
   ]
  },
  {
   "cell_type": "markdown",
   "id": "313bd13c-e02e-4569-bf21-15681af768ad",
   "metadata": {},
   "source": [
    "## Types continued: `str`"
   ]
  },
  {
   "cell_type": "markdown",
   "id": "76d61c8f-d679-447d-b648-4a9b039cd72c",
   "metadata": {},
   "source": [
    "## Conditions: `if` / `elif` / `else`"
   ]
  }
 ],
 "metadata": {
  "kernelspec": {
   "display_name": "Python 3 (ipykernel)",
   "language": "python",
   "name": "python3"
  },
  "language_info": {
   "codemirror_mode": {
    "name": "ipython",
    "version": 3
   },
   "file_extension": ".py",
   "mimetype": "text/x-python",
   "name": "python",
   "nbconvert_exporter": "python",
   "pygments_lexer": "ipython3",
   "version": "3.12.8"
  }
 },
 "nbformat": 4,
 "nbformat_minor": 5
}
