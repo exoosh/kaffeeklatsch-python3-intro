{
 "cells": [
  {
   "cell_type": "markdown",
   "id": "a4fd4bcc-7922-4b47-80d9-ef9d68715f02",
   "metadata": {},
   "source": [
    "# Python basics"
   ]
  },
  {
   "cell_type": "markdown",
   "id": "c856b36e-4c75-4365-944c-f2022b1906ec",
   "metadata": {},
   "source": [
    "## Whitespace\n",
    "\n",
    "* whitespace in the form of **indentation matters**, e.g. (note the second line's indentation):\n",
    "  ```\n",
    "  if condition:\n",
    "      ...\n",
    "  ```\n",
    "    * there's semantic meaning here, the `...` is the code to be executed when the condition is true\n",
    "* blank space as opposed to tab is recommended ([PEP8](https://peps.python.org/pep-0008/)), 4 spaces per indentation level are customary"
   ]
  },
  {
   "cell_type": "code",
   "execution_count": 1,
   "id": "00e445a0-3eb9-46f1-8e5a-a112c02d3190",
   "metadata": {},
   "outputs": [],
   "source": [
    "if True:\n",
    "    ...    "
   ]
  },
  {
   "cell_type": "markdown",
   "id": "d5181263-4584-4c98-bcb8-e2b808d40cec",
   "metadata": {},
   "source": [
    "## Comments\n",
    "\n",
    "* A hash sign (`#`) introduces a single-line comment\n",
    "* There are no multi-line comments per-se, but one can (ab)use triple-quoted links instead (more on that later)"
   ]
  },
  {
   "cell_type": "code",
   "execution_count": 2,
   "id": "efc28944-aae8-44f6-9782-6ca13418ed64",
   "metadata": {},
   "outputs": [],
   "source": [
    "# this is a comment"
   ]
  },
  {
   "cell_type": "markdown",
   "id": "eabd741b-3801-4626-9b44-c4a31d5f7cb6",
   "metadata": {},
   "source": [
    "## Hello world"
   ]
  },
  {
   "cell_type": "code",
   "execution_count": 3,
   "id": "261139ae-cfae-436c-9611-3d44a5a38d50",
   "metadata": {},
   "outputs": [
    {
     "name": "stdout",
     "output_type": "stream",
     "text": [
      "Hello world\n"
     ]
    }
   ],
   "source": [
    "print(\"Hello world\")"
   ]
  },
  {
   "cell_type": "markdown",
   "id": "30de9ec2-44bb-4ba3-a632-dc60fe1ba581",
   "metadata": {},
   "source": [
    "## What are variables?\n",
    "\n",
    "Variables are merely names referring to an object. They are, so to speak, aliases for objects."
   ]
  },
  {
   "cell_type": "code",
   "execution_count": 4,
   "id": "b92063c2-c9fa-4a8b-9a81-d76945b32f36",
   "metadata": {},
   "outputs": [
    {
     "data": {
      "text/plain": [
       "1"
      ]
     },
     "execution_count": 4,
     "metadata": {},
     "output_type": "execute_result"
    }
   ],
   "source": [
    "a = 1 # name a refers to value 1\n",
    "a"
   ]
  },
  {
   "cell_type": "markdown",
   "id": "58fe3ec3-ec1e-4f01-ac7a-cf415fc89537",
   "metadata": {},
   "source": [
    "## What are types?"
   ]
  },
  {
   "cell_type": "code",
   "execution_count": 5,
   "id": "58a9d094-5506-4f4c-a330-11ffba95c7f9",
   "metadata": {},
   "outputs": [
    {
     "data": {
      "text/plain": [
       "int"
      ]
     },
     "execution_count": 5,
     "metadata": {},
     "output_type": "execute_result"
    }
   ],
   "source": [
    "type(1)"
   ]
  },
  {
   "cell_type": "code",
   "execution_count": 6,
   "id": "40740d6f-9b7f-46f7-91ce-060d67b5304c",
   "metadata": {},
   "outputs": [
    {
     "data": {
      "text/plain": [
       "str"
      ]
     },
     "execution_count": 6,
     "metadata": {},
     "output_type": "execute_result"
    }
   ],
   "source": [
    "type(\"hello\")"
   ]
  },
  {
   "cell_type": "markdown",
   "id": "21fb3d05-b266-44ef-aa97-30d964bfc2fd",
   "metadata": {},
   "source": [
    "## Python is object-oriented, what does that mean?\n",
    "\n",
    "It means that even the most simple piece of data, like the integer literal `123` is treated as an object and comes with its very own -- type-specific -- magic methods and attributes."
   ]
  },
  {
   "cell_type": "code",
   "execution_count": 7,
   "id": "9972bca8-9a14-4095-89b9-8ca822b87da6",
   "metadata": {},
   "outputs": [
    {
     "data": {
      "text/plain": [
       "['__abs__',\n",
       " '__add__',\n",
       " '__and__',\n",
       " '__bool__',\n",
       " '__ceil__',\n",
       " '__class__',\n",
       " '__delattr__',\n",
       " '__dir__',\n",
       " '__divmod__',\n",
       " '__doc__',\n",
       " '__eq__',\n",
       " '__float__',\n",
       " '__floor__',\n",
       " '__floordiv__',\n",
       " '__format__',\n",
       " '__ge__',\n",
       " '__getattribute__',\n",
       " '__getnewargs__',\n",
       " '__getstate__',\n",
       " '__gt__',\n",
       " '__hash__',\n",
       " '__index__',\n",
       " '__init__',\n",
       " '__init_subclass__',\n",
       " '__int__',\n",
       " '__invert__',\n",
       " '__le__',\n",
       " '__lshift__',\n",
       " '__lt__',\n",
       " '__mod__',\n",
       " '__mul__',\n",
       " '__ne__',\n",
       " '__neg__',\n",
       " '__new__',\n",
       " '__or__',\n",
       " '__pos__',\n",
       " '__pow__',\n",
       " '__radd__',\n",
       " '__rand__',\n",
       " '__rdivmod__',\n",
       " '__reduce__',\n",
       " '__reduce_ex__',\n",
       " '__repr__',\n",
       " '__rfloordiv__',\n",
       " '__rlshift__',\n",
       " '__rmod__',\n",
       " '__rmul__',\n",
       " '__ror__',\n",
       " '__round__',\n",
       " '__rpow__',\n",
       " '__rrshift__',\n",
       " '__rshift__',\n",
       " '__rsub__',\n",
       " '__rtruediv__',\n",
       " '__rxor__',\n",
       " '__setattr__',\n",
       " '__sizeof__',\n",
       " '__str__',\n",
       " '__sub__',\n",
       " '__subclasshook__',\n",
       " '__truediv__',\n",
       " '__trunc__',\n",
       " '__xor__',\n",
       " 'as_integer_ratio',\n",
       " 'bit_count',\n",
       " 'bit_length',\n",
       " 'conjugate',\n",
       " 'denominator',\n",
       " 'from_bytes',\n",
       " 'imag',\n",
       " 'is_integer',\n",
       " 'numerator',\n",
       " 'real',\n",
       " 'to_bytes']"
      ]
     },
     "execution_count": 7,
     "metadata": {},
     "output_type": "execute_result"
    }
   ],
   "source": [
    "dir(123)"
   ]
  },
  {
   "cell_type": "markdown",
   "id": "f8899e03-0fdc-46f0-b425-3bd19e629aca",
   "metadata": {},
   "source": [
    "The items with `__something__` are called magic methods. Theoretically there would be also attributes (non-callables) using the same naming convention.\n",
    "\n",
    "> **NB:** the double underscore is everywhere in Python and because it is a pervasive pattern and people found it too complicated to say \"double underscore something double underscore\" when referring to `__something__`, the Python community came with the short form: **\"dunder something\"**\n",
    ">\n",
    "> And now you can feel as a true Pythonista, knowing such detail so early on.\n",
    "\n",
    "### Concrete example\n",
    "\n",
    "Multiplication is usually expressed using the `*` operator, but you could also call the `__mul__` method on one of the involved operands, passing the other operand as an argument."
   ]
  },
  {
   "cell_type": "code",
   "execution_count": 8,
   "id": "65b462e8-0fac-4fb0-8d4c-5392ee16cec3",
   "metadata": {},
   "outputs": [
    {
     "data": {
      "text/plain": [
       "28782"
      ]
     },
     "execution_count": 8,
     "metadata": {},
     "output_type": "execute_result"
    }
   ],
   "source": [
    "123 * 234\n",
    "123 .__mul__(234)"
   ]
  },
  {
   "cell_type": "markdown",
   "id": "93ccb7d2-6479-4bd8-9d19-39b1434e91d9",
   "metadata": {},
   "source": [
    "## Errors (exceptions)\n",
    "\n",
    "* `raise`d, not `throw`n in Python"
   ]
  },
  {
   "cell_type": "code",
   "execution_count": 9,
   "id": "4313438a-25fb-466a-a383-bbf76f66c85b",
   "metadata": {},
   "outputs": [
    {
     "ename": "NameError",
     "evalue": "name 'foobar' is not defined",
     "output_type": "error",
     "traceback": [
      "\u001b[31m---------------------------------------------------------------------------\u001b[39m",
      "\u001b[31mNameError\u001b[39m                                 Traceback (most recent call last)",
      "\u001b[36mCell\u001b[39m\u001b[36m \u001b[39m\u001b[32mIn[9]\u001b[39m\u001b[32m, line 1\u001b[39m\n\u001b[32m----> \u001b[39m\u001b[32m1\u001b[39m \u001b[43mfoobar\u001b[49m\n",
      "\u001b[31mNameError\u001b[39m: name 'foobar' is not defined"
     ]
    }
   ],
   "source": [
    "foobar"
   ]
  },
  {
   "cell_type": "markdown",
   "id": "9cd9402f-6ccd-440d-bece-23ca28bddfea",
   "metadata": {},
   "source": [
    "### Exceptions are objects, too\n",
    "\n",
    "Generally all exceptions in Python inherit from the built-in exception class `BaseException`. We'll learn more details in the explanation of the `try` compound statement."
   ]
  },
  {
   "cell_type": "markdown",
   "id": "3f1dc155-0e22-4cb8-b78e-099f6100cc75",
   "metadata": {},
   "source": [
    "## Assignments (... variables continued)\n",
    "\n",
    "* Parameters are passed by assignment (more on that later)"
   ]
  },
  {
   "cell_type": "code",
   "execution_count": 10,
   "id": "4c16651f-3a1a-490f-9807-726d1851f8d9",
   "metadata": {},
   "outputs": [
    {
     "name": "stdout",
     "output_type": "stream",
     "text": [
      "42\n"
     ]
    },
    {
     "data": {
      "text/plain": [
       "1764"
      ]
     },
     "execution_count": 10,
     "metadata": {},
     "output_type": "execute_result"
    }
   ],
   "source": [
    "a = 42\n",
    "b = a ** 2\n",
    "print(a)\n",
    "b"
   ]
  },
  {
   "cell_type": "markdown",
   "id": "e11671e9-d06a-49b9-90b5-2008e29dce94",
   "metadata": {},
   "source": [
    "## Types continued: `bool`"
   ]
  },
  {
   "cell_type": "code",
   "execution_count": 11,
   "id": "f9d3d98a-0fda-4f3d-b664-6c5fbafb50ba",
   "metadata": {},
   "outputs": [
    {
     "name": "stdout",
     "output_type": "stream",
     "text": [
      "True\n"
     ]
    }
   ],
   "source": [
    "x = True\n",
    "if x:\n",
    "    print(x)"
   ]
  },
  {
   "cell_type": "code",
   "execution_count": 12,
   "id": "816563b8-0cd6-43b9-9a04-2703f9a42974",
   "metadata": {},
   "outputs": [
    {
     "name": "stdout",
     "output_type": "stream",
     "text": [
      "it's false\n"
     ]
    }
   ],
   "source": [
    "x = False\n",
    "if x:\n",
    "    print(x)\n",
    "else:\n",
    "    print(\"it's false\")"
   ]
  },
  {
   "cell_type": "markdown",
   "id": "7e219dff-f525-4ed9-bcd8-5d6bfd2aee4b",
   "metadata": {},
   "source": [
    "## `None` singleton\n",
    "\n",
    "* Singleton -- exists only once in the whole \"language\"\n",
    "* Used to express \"nothingness\" and evaluates to false in conditions"
   ]
  },
  {
   "cell_type": "code",
   "execution_count": 13,
   "id": "81155e1e-efc4-4269-90c8-00f473ee3a21",
   "metadata": {},
   "outputs": [],
   "source": [
    "if None:\n",
    "    print(\"what's this?\")"
   ]
  },
  {
   "cell_type": "markdown",
   "id": "7c7befec-0ad2-4580-9d20-2f59aaef5985",
   "metadata": {},
   "source": [
    "(output is empty, because the condition evaluates to false)"
   ]
  },
  {
   "cell_type": "markdown",
   "id": "4db9f404-afdf-4b00-bac3-7ac7bd462e69",
   "metadata": {},
   "source": [
    "## Types continued: `int`\n",
    "\n",
    "* `int` for integer\n",
    "* not limited to 32 or 64-bit range; you can use _really_ big integers in Python without hassle (limited mainly by available memory)"
   ]
  },
  {
   "cell_type": "code",
   "execution_count": 14,
   "id": "a6a47e21-a402-4aad-884e-cd069836e8bd",
   "metadata": {},
   "outputs": [
    {
     "data": {
      "text/plain": [
       "123"
      ]
     },
     "execution_count": 14,
     "metadata": {},
     "output_type": "execute_result"
    }
   ],
   "source": [
    "123"
   ]
  },
  {
   "cell_type": "code",
   "execution_count": 15,
   "id": "2eafe831-3d8d-45bc-a8f5-01fbc0420e5a",
   "metadata": {},
   "outputs": [
    {
     "data": {
      "text/plain": [
       "28782"
      ]
     },
     "execution_count": 15,
     "metadata": {},
     "output_type": "execute_result"
    }
   ],
   "source": [
    "123 * 234"
   ]
  },
  {
   "cell_type": "code",
   "execution_count": 16,
   "id": "ff9b53e4-3b68-4fcc-aa4f-436f251d6193",
   "metadata": {},
   "outputs": [
    {
     "data": {
      "text/plain": [
       "357"
      ]
     },
     "execution_count": 16,
     "metadata": {},
     "output_type": "execute_result"
    }
   ],
   "source": [
    "123 + 234"
   ]
  },
  {
   "cell_type": "code",
   "execution_count": 17,
   "id": "0a9a994b-0752-42a2-860b-ff403dab985b",
   "metadata": {},
   "outputs": [
    {
     "data": {
      "text/plain": [
       "float"
      ]
     },
     "execution_count": 17,
     "metadata": {},
     "output_type": "execute_result"
    }
   ],
   "source": [
    "123 / 234\n",
    "type(123 / 234)"
   ]
  },
  {
   "cell_type": "code",
   "execution_count": 18,
   "id": "7f6cb6f5-b5c2-428b-a02b-57f5613260fd",
   "metadata": {},
   "outputs": [
    {
     "data": {
      "text/plain": [
       "111"
      ]
     },
     "execution_count": 18,
     "metadata": {},
     "output_type": "execute_result"
    }
   ],
   "source": [
    "334 // 3"
   ]
  },
  {
   "cell_type": "code",
   "execution_count": 19,
   "id": "8daff1dd-abdc-4576-a001-9fa0f3b86dc7",
   "metadata": {},
   "outputs": [
    {
     "data": {
      "text/plain": [
       "89"
      ]
     },
     "execution_count": 19,
     "metadata": {},
     "output_type": "execute_result"
    }
   ],
   "source": [
    "123 - 34"
   ]
  },
  {
   "cell_type": "code",
   "execution_count": 20,
   "id": "4ec0d83e-8d0c-4490-bc99-984719d880c0",
   "metadata": {},
   "outputs": [
    {
     "data": {
      "text/plain": [
       "-112"
      ]
     },
     "execution_count": 20,
     "metadata": {},
     "output_type": "execute_result"
    }
   ],
   "source": [
    "-334 // 3"
   ]
  },
  {
   "cell_type": "code",
   "execution_count": 21,
   "id": "7200d881-006e-4722-aa08-bba5b0860d36",
   "metadata": {},
   "outputs": [
    {
     "data": {
      "text/plain": [
       "1"
      ]
     },
     "execution_count": 21,
     "metadata": {},
     "output_type": "execute_result"
    }
   ],
   "source": [
    "10 % 3"
   ]
  },
  {
   "cell_type": "code",
   "execution_count": 22,
   "id": "a6181b7e-0ba6-4176-8be1-af03fcac03c4",
   "metadata": {},
   "outputs": [
    {
     "data": {
      "text/plain": [
       "3"
      ]
     },
     "execution_count": 22,
     "metadata": {},
     "output_type": "execute_result"
    }
   ],
   "source": [
    "10 // 3"
   ]
  },
  {
   "cell_type": "markdown",
   "id": "7851ba37-a2bb-4d61-8d5a-c5f79e72980d",
   "metadata": {},
   "source": [
    "## Types continued: `float`\n",
    "\n",
    "* `float` is short for floating point number\n",
    "* allows to express fractions of integers at the expense of precision (and range is more severely limited than integers; IEEE-754 double)"
   ]
  },
  {
   "cell_type": "code",
   "execution_count": 23,
   "id": "00ef7a4b-7636-44f4-a591-33ee34d3e9c2",
   "metadata": {},
   "outputs": [
    {
     "data": {
      "text/plain": [
       "123.45"
      ]
     },
     "execution_count": 23,
     "metadata": {},
     "output_type": "execute_result"
    }
   ],
   "source": [
    "123.45"
   ]
  },
  {
   "cell_type": "code",
   "execution_count": 24,
   "id": "863d1bf3-24e8-4922-9beb-c6096707274b",
   "metadata": {},
   "outputs": [
    {
     "data": {
      "text/plain": [
       "0.3333333333333333"
      ]
     },
     "execution_count": 24,
     "metadata": {},
     "output_type": "execute_result"
    }
   ],
   "source": [
    "1/3"
   ]
  },
  {
   "cell_type": "markdown",
   "id": "6af4a4ed-9653-4775-bfa5-d2cab6dfa0c3",
   "metadata": {},
   "source": [
    "## Built-in function: `len()`\n",
    "\n",
    "* `len` is short for length\n",
    "* allows us to retrieve the length -- i.e. number of elements in -- a sequence"
   ]
  },
  {
   "cell_type": "markdown",
   "id": "313bd13c-e02e-4569-bf21-15681af768ad",
   "metadata": {},
   "source": [
    "## Types continued: `str`\n",
    "\n",
    "* `str` is short for string\n",
    "* sequence (ordered) of characters\n",
    "    * stores text"
   ]
  },
  {
   "cell_type": "code",
   "execution_count": 25,
   "id": "d423d2c2-f3e6-419f-bacf-28161b13e0bc",
   "metadata": {},
   "outputs": [
    {
     "data": {
      "text/plain": [
       "'😁'"
      ]
     },
     "execution_count": 25,
     "metadata": {},
     "output_type": "execute_result"
    }
   ],
   "source": [
    "\"😁\""
   ]
  },
  {
   "cell_type": "code",
   "execution_count": 26,
   "id": "859d36a8-8343-4c6e-8ddc-309b5d1955bc",
   "metadata": {},
   "outputs": [
    {
     "name": "stdout",
     "output_type": "stream",
     "text": [
      "Found an o\n"
     ]
    }
   ],
   "source": [
    "if \"o\" in \"Hello world\":\n",
    "    print(\"Found an o\")"
   ]
  },
  {
   "cell_type": "code",
   "execution_count": 27,
   "id": "f0b9bc15-cd53-4a90-9fb8-871c1118aabd",
   "metadata": {},
   "outputs": [
    {
     "data": {
      "text/plain": [
       "11"
      ]
     },
     "execution_count": 27,
     "metadata": {},
     "output_type": "execute_result"
    }
   ],
   "source": [
    "len(\"Hello world\")"
   ]
  },
  {
   "cell_type": "code",
   "execution_count": 28,
   "id": "36485322-adb5-46a8-8563-a33de05c214b",
   "metadata": {},
   "outputs": [
    {
     "data": {
      "text/plain": [
       "1"
      ]
     },
     "execution_count": 28,
     "metadata": {},
     "output_type": "execute_result"
    }
   ],
   "source": [
    "len(\"😁\")"
   ]
  },
  {
   "cell_type": "code",
   "execution_count": 29,
   "id": "27fceec8-8ab2-4146-9b20-34ea95575c9e",
   "metadata": {},
   "outputs": [
    {
     "data": {
      "text/plain": [
       "str"
      ]
     },
     "execution_count": 29,
     "metadata": {},
     "output_type": "execute_result"
    }
   ],
   "source": [
    "type(\"hello\")"
   ]
  },
  {
   "cell_type": "markdown",
   "id": "367a6344-d2fc-4f3a-a4bd-93bba2df5f4a",
   "metadata": {},
   "source": [
    "### ... creating string from scratch"
   ]
  },
  {
   "cell_type": "code",
   "execution_count": 30,
   "id": "46de7d0a-736d-4949-841d-99295c86b557",
   "metadata": {},
   "outputs": [
    {
     "data": {
      "text/plain": [
       "'123'"
      ]
     },
     "execution_count": 30,
     "metadata": {},
     "output_type": "execute_result"
    }
   ],
   "source": [
    "str(123)"
   ]
  },
  {
   "cell_type": "code",
   "execution_count": 31,
   "id": "dc701e38-4e2e-4d36-8949-bfa75c9d1b02",
   "metadata": {},
   "outputs": [
    {
     "data": {
      "text/plain": [
       "builtin_function_or_method"
      ]
     },
     "execution_count": 31,
     "metadata": {},
     "output_type": "execute_result"
    }
   ],
   "source": [
    "type(len)"
   ]
  },
  {
   "cell_type": "code",
   "execution_count": 32,
   "id": "3cab3408-f4cf-47b4-beca-06c905e0a003",
   "metadata": {},
   "outputs": [
    {
     "data": {
      "text/plain": [
       "'<built-in function len>'"
      ]
     },
     "execution_count": 32,
     "metadata": {},
     "output_type": "execute_result"
    }
   ],
   "source": [
    "repr(len)"
   ]
  },
  {
   "cell_type": "markdown",
   "id": "8402d2d1-c788-44ba-9f93-537dd3330b17",
   "metadata": {},
   "source": [
    "### Beware: `str` exists as built-in type and built-in function\n",
    "\n",
    "The result is that it _feels_ as if you are able to cast from other types when you invoke `str`, when in reality you are invoking the `__str__` magic method on the target object."
   ]
  },
  {
   "cell_type": "markdown",
   "id": "647fb6c0-0bde-497b-81b2-4cb16616f993",
   "metadata": {},
   "source": [
    "### Slicing\n",
    "\n",
    "* Allows us to slice and dice strings and other sequences as needed\n",
    "* Allows to express start and (optionally) end index\n",
    "  * optionally allows to give a step size (e.g.: every second element)"
   ]
  },
  {
   "cell_type": "code",
   "execution_count": 33,
   "id": "d16f21b5-2166-4f54-9937-1df806b9e068",
   "metadata": {},
   "outputs": [
    {
     "name": "stdout",
     "output_type": "stream",
     "text": [
      "d\n",
      "H\n",
      "lo \n",
      "lo world\n"
     ]
    }
   ],
   "source": [
    "hello = \"Hello world\"\n",
    "# access last character\n",
    "print(hello[-1])\n",
    "# access first character\n",
    "print(hello[0])\n",
    "# take characters from index 3 up to 6 (0-based)\n",
    "print(hello[3:6])\n",
    "# take everything from index 3 (0-based)\n",
    "print(hello[3:])"
   ]
  },
  {
   "cell_type": "markdown",
   "id": "eea51587-e19a-4645-9a41-caf00cae9173",
   "metadata": {},
   "source": [
    "## Factorial — a small \"practical\" example\n",
    "\n",
    "Factorial is a mathematical function that computes the product of all numbers from 1 through n for a given n.\n",
    "\n",
    "* The mathematical notation is `3!` for \"three factorial\"\n",
    "* General form: `fac(n)` -> `1 * 2 * 3 ... * n`\n",
    "* For `n == 3`: `fac(3)` -> `1 * 2 * 3` equals 6\n",
    "* Zero is a special case and `0!` is defined as being `1`"
   ]
  },
  {
   "cell_type": "code",
   "execution_count": 34,
   "id": "31c846a5-9ad3-43d6-a40c-38d1a7f3f36f",
   "metadata": {},
   "outputs": [
    {
     "name": "stdout",
     "output_type": "stream",
     "text": [
      "fac(3)=6\n",
      "fac(n)=40320\n",
      "fac(n)=0x9d80\n"
     ]
    }
   ],
   "source": [
    "# Recursive implementation, i.e. fac() calls itself with an ever decrementing value for n\n",
    "def fac(n):\n",
    "    if n == 0: # if n == 0 we simply return 1, because fac(0) is defined as 1\n",
    "        return 1\n",
    "    return n * fac(n - 1) # otherwise we call fac() again with n - 1 until we end up in the above condition\n",
    "                          #and return the result of n times the call's result\n",
    "\n",
    "# Iterative implementation, i.e. using a loop to achieve the same as above\n",
    "def fac2(n):\n",
    "    result = 1 # our \"default\" return value\n",
    "    while n > 0: # loop as long as n is greater than 0\n",
    "        result = result * n # multiply existing result by current n\n",
    "        n -= 1 # decrement n by one\n",
    "    return result # return result\n",
    "\n",
    "n = 8\n",
    "# printing results via f-strings\n",
    "print(f\"{fac(3)=}\") # call with argument n == 3\n",
    "print(f\"{fac(n)=}\") # call with variable n from above\n",
    "print(f\"{fac(n)=:#x}\") # formatting representation as hexadecimal (x) with 0x prefix (#)"
   ]
  },
  {
   "cell_type": "markdown",
   "id": "7c481f0b-c384-4daf-9c44-f061efca6296",
   "metadata": {},
   "source": [
    "This example is meant to illustrate a few elements of the Python language and we're going to come back to the individual elements when appropriate.\n",
    "\n",
    "Right now let's focus on the last three lines that deal with strings."
   ]
  },
  {
   "cell_type": "markdown",
   "id": "7ba3aa0d-5768-459a-bc50-3d977e74c1fc",
   "metadata": {},
   "source": [
    "## Strings continued (type: `str`)"
   ]
  },
  {
   "cell_type": "markdown",
   "id": "1f828fec-dc4c-4815-97d8-1072c1e0e829",
   "metadata": {},
   "source": [
    "### Modern string formatting with f-strings\n",
    "\n",
    "So-called f-strings replace the old-style printf-like string formatting and are essentially syntactic sugar for the formatting that was available through the string `format()` method.\n",
    "\n",
    "* The general form is `f\"...\"`, i.e. a string with a leading `f` before the literal.\n",
    "* Inside it we use brace expressions, e.g. `{x}` to format an (ambient) variable `x`.\n",
    "* We can also affect the _representation_ of the output by giving some specifier after a `:`\n",
    "  * In the above example we have `:#x` which has the following effect\n",
    "    * `x` alone converts the representation to hexadecimal\n",
    "    * `#` gives the hexadecimal number the conventional `0x` prefix\n",
    "* There are also conversions like `s` (which means the variable is passed through `str()`) and `r` (which means the variable is passed through `repr()`). Conversions appear _after_ specifiers for the representation and _after_ a separating `!`.\n",
    "* To get a verbatim brace character, duplicate it. So in essence `f\"{{x}}\"` is the same as `\"{}\"`.\n",
    "\n",
    "More information and also examples contrasting the different flavors can be found at [pyformat.info](https://pyformat.info) and [fstring.help](https://fstring.help/); with [cheat sheet here](https://fstring.help/cheat)."
   ]
  },
  {
   "cell_type": "markdown",
   "id": "f6575d2d-32d0-4d51-9b9b-0c8495c84e77",
   "metadata": {},
   "source": [
    "#### Old-style formatting (printf-like)"
   ]
  },
  {
   "cell_type": "code",
   "execution_count": 35,
   "id": "a17dba72-2a08-4be3-9069-06fc52716626",
   "metadata": {},
   "outputs": [
    {
     "name": "stdout",
     "output_type": "stream",
     "text": [
      "123 foo 1c8\n"
     ]
    }
   ],
   "source": [
    "print(\"%d %s %x\" % (123, \"foo\", 456))"
   ]
  },
  {
   "cell_type": "markdown",
   "id": "2a3b4451-98d4-4a40-b5e3-1cebe0861e5d",
   "metadata": {},
   "source": [
    "We can achieve something similar by converting `456` to a hexadecimal string through the `hex()` built-in function."
   ]
  },
  {
   "cell_type": "code",
   "execution_count": 36,
   "id": "8e5901b9-faa9-42ef-b448-1103b93bb956",
   "metadata": {},
   "outputs": [
    {
     "name": "stdout",
     "output_type": "stream",
     "text": [
      "123 foo 0x1c8\n"
     ]
    }
   ],
   "source": [
    "print(\"%d %s %s\" % (123, \"foo\", hex(456)))"
   ]
  },
  {
   "cell_type": "markdown",
   "id": "92935799-5742-4eb6-adcc-12697b219fb6",
   "metadata": {},
   "source": [
    "#### Using string's `format()` method\n",
    "\n",
    "Note, there's nothing wrong with this method. It's a lot better than the old printf-like method. However, it's not quite as succinct as modern f-strings. One reason to use this method is to control what names are available in the format string."
   ]
  },
  {
   "cell_type": "code",
   "execution_count": 37,
   "id": "7b75c4a0-6313-469d-b3f4-996583609d60",
   "metadata": {},
   "outputs": [
    {
     "name": "stdout",
     "output_type": "stream",
     "text": [
      "123 foo 0x1c8\n"
     ]
    }
   ],
   "source": [
    "print(\"{} {} {:#x}\".format(123, \"foo\", 456))"
   ]
  },
  {
   "cell_type": "markdown",
   "id": "8b49ff4a-b2c1-418b-b3b4-55969c323ff4",
   "metadata": {},
   "source": [
    "#### **RECOMMENDED:** actual f-strings (introduced in Python 3.6)\n",
    "\n",
    "Use this method for new code. It's more expressive and more succinct. The corresponding [PEP 498](https://peps.python.org/pep-0498/) explains the intent, reasoning and implementation details."
   ]
  },
  {
   "cell_type": "code",
   "execution_count": 38,
   "id": "d6ed6513-0fc2-4456-8369-4f936963cd42",
   "metadata": {},
   "outputs": [
    {
     "name": "stdout",
     "output_type": "stream",
     "text": [
      "123 foo 0x1c8\n"
     ]
    }
   ],
   "source": [
    "print(f\"{123} {\"foo\"} {456:#x}\")"
   ]
  },
  {
   "cell_type": "markdown",
   "id": "7dd57512-915e-4a76-bcf2-ce7eadcbfe4b",
   "metadata": {},
   "source": [
    "Obviously this is a contrived example. The advantages become more evident when we don't use values but variables."
   ]
  },
  {
   "cell_type": "code",
   "execution_count": 39,
   "id": "0af8f874-a934-4fe8-8548-5b8a7bbb1a82",
   "metadata": {},
   "outputs": [
    {
     "name": "stdout",
     "output_type": "stream",
     "text": [
      "123 foo 0x1c8\n"
     ]
    }
   ],
   "source": [
    "a = 123\n",
    "b = \"foo\"\n",
    "c = 456\n",
    "print(f\"{a} {b} {c:#x}\")"
   ]
  },
  {
   "cell_type": "markdown",
   "id": "012e0d4f-3eda-4c17-8982-a50d06d82be4",
   "metadata": {},
   "source": [
    "But it gets cooler, you can insert an `=` after the variable name, too. This way we will get to see the variable name, followed by the `=` and the value."
   ]
  },
  {
   "cell_type": "code",
   "execution_count": 40,
   "id": "894f4fc0-68bf-4338-956e-726ea6cab179",
   "metadata": {},
   "outputs": [
    {
     "name": "stdout",
     "output_type": "stream",
     "text": [
      "a=123 b='foo' c=0x1c8\n"
     ]
    }
   ],
   "source": [
    "a = 123\n",
    "b = \"foo\"\n",
    "c = 456\n",
    "print(f\"{a=} {b=} {c=:#x}\")"
   ]
  },
  {
   "cell_type": "markdown",
   "id": "b85b6fd4-3cd5-4c5e-b4a0-434b1f932c31",
   "metadata": {},
   "source": [
    "But we can do one better. Instead of just tapping into variables you can also call functions directly in those brace expressions."
   ]
  },
  {
   "cell_type": "code",
   "execution_count": 41,
   "id": "960905cc-9dfa-490f-9de7-bed2267debb9",
   "metadata": {},
   "outputs": [
    {
     "name": "stdout",
     "output_type": "stream",
     "text": [
      "fac(8)=40320\n"
     ]
    }
   ],
   "source": [
    "def fac(n):\n",
    "    if n == 0: # if n == 0 we simply return 1, because fac(0) is defined as 1\n",
    "        return 1\n",
    "    return n * fac(n - 1)\n",
    "\n",
    "print(f\"{fac(8)=}\")"
   ]
  },
  {
   "cell_type": "code",
   "execution_count": 42,
   "id": "5b7bedbb-d8a4-4236-b200-a5e7e327ab35",
   "metadata": {},
   "outputs": [
    {
     "name": "stdout",
     "output_type": "stream",
     "text": [
      "{fac(8)=40320} ... :-{\n"
     ]
    }
   ],
   "source": [
    "def fac(n):\n",
    "    if n == 0: # if n == 0 we simply return 1, because fac(0) is defined as 1\n",
    "        return 1\n",
    "    return n * fac(n - 1)\n",
    "\n",
    "print(f\"{{{fac(8)=}}} ... :-{{\") # same as above, but surrounded by braces, with a disappointed smiley\n",
    "# This is how to get verbatim braces"
   ]
  },
  {
   "cell_type": "markdown",
   "id": "663c6502-98c6-410a-a93c-8e49820a79ba",
   "metadata": {},
   "source": [
    "The advantage of using brace expressions is that they allow you also to nest Python code that itself contains double-quotes, for example."
   ]
  },
  {
   "cell_type": "code",
   "execution_count": 43,
   "id": "921f37cb-19cb-4fca-b558-931aac68a7a3",
   "metadata": {},
   "outputs": [
    {
     "name": "stdout",
     "output_type": "stream",
     "text": [
      "['foo', 'bar', 'baz']\n",
      "foo, bar, baz\n"
     ]
    }
   ],
   "source": [
    "b = [\"foo\", \"bar\", \"baz\"]\n",
    "print(f\"{b}\")\n",
    "print(f\"{\", \".join(b)}\")"
   ]
  },
  {
   "cell_type": "markdown",
   "id": "ebfad13d-8c51-4980-91f4-f402307b6e85",
   "metadata": {},
   "source": [
    "## Interlude: strings are immutable"
   ]
  },
  {
   "cell_type": "code",
   "execution_count": 44,
   "id": "411118eb-42f7-48e8-8020-0c62b9c02227",
   "metadata": {},
   "outputs": [
    {
     "name": "stdout",
     "output_type": "stream",
     "text": [
      "140719535705696\n",
      "2436250033200\n",
      "2436250029744\n"
     ]
    }
   ],
   "source": [
    "foo = \"spam\"\n",
    "bar = \"ni ni ni\"\n",
    "print(id(foo)) # identity (in CPython usually the address of the object in memory)\n",
    "print(id(bar))\n",
    "bar = bar + foo # we assign a totally new object to the name (variable) bar\n",
    "print(id(bar))"
   ]
  },
  {
   "cell_type": "markdown",
   "id": "0cb46d95-d9e0-413a-8360-75f9d455818a",
   "metadata": {},
   "source": [
    "Each of these unique values means that each object on which we called the built-in `id()` function has its own distinct identity.\n",
    "\n",
    "Note: as an implementation detail, CPython will normally treat the address of the object, i.e. pointer to it, as the ID."
   ]
  },
  {
   "cell_type": "markdown",
   "id": "7e276930-506c-41aa-a5e0-4523a27783d3",
   "metadata": {},
   "source": [
    "## Interlude: lists (another sequence type) are mutable"
   ]
  },
  {
   "cell_type": "code",
   "execution_count": 45,
   "id": "86fda732-e8ef-4864-979e-2024d1254667",
   "metadata": {},
   "outputs": [
    {
     "data": {
      "text/plain": [
       "[1, 2, 3, 4]"
      ]
     },
     "execution_count": 45,
     "metadata": {},
     "output_type": "execute_result"
    }
   ],
   "source": [
    "b = [1, 2, 3]\n",
    "b.append(4) # append single value to the list\n",
    "b"
   ]
  },
  {
   "cell_type": "code",
   "execution_count": 46,
   "id": "b99ce37d-0e0c-4354-b568-a28ea8167af4",
   "metadata": {},
   "outputs": [
    {
     "data": {
      "text/plain": [
       "[1, 2, 3, [4, 5, 6]]"
      ]
     },
     "execution_count": 46,
     "metadata": {},
     "output_type": "execute_result"
    }
   ],
   "source": [
    "b = [1, 2, 3]\n",
    "# this won't append the individual elements to b, instead it will create a nested list\n",
    "b.append([4, 5, 6])\n",
    "b"
   ]
  },
  {
   "cell_type": "code",
   "execution_count": 47,
   "id": "ae8ab0c4-4b42-4d7b-968b-cb3669a47237",
   "metadata": {},
   "outputs": [
    {
     "data": {
      "text/plain": [
       "[1, 2, 3, 4, 5, 6]"
      ]
     },
     "execution_count": 47,
     "metadata": {},
     "output_type": "execute_result"
    }
   ],
   "source": [
    "b = [1, 2, 3]\n",
    "# this will extend the list b\n",
    "b.extend([4, 5, 6]) # this will extend list b by the passed list\n",
    "b"
   ]
  },
  {
   "cell_type": "markdown",
   "id": "8963cd1b-2068-4bb1-8ffc-eef099321cff",
   "metadata": {},
   "source": [
    "## The consequences of mutability\n",
    "\n",
    "Mutability affects whether an object gets manipulated or a new one gets created. This can be demonstrated:"
   ]
  },
  {
   "cell_type": "code",
   "execution_count": 48,
   "id": "e58ac51d-c18e-4b7e-83be-fe0636b8160e",
   "metadata": {},
   "outputs": [
    {
     "name": "stdout",
     "output_type": "stream",
     "text": [
      "BEFORE: c=[1, 2, 3, 4, 5, 6], b=[1, 2, 3, 4, 5, 6] (id(c) == id(b)=True)\n",
      "\tid(c)=0x2373bce1100, id(b)=0x2373bce1100\n",
      "AFTER : c=[1, 2, 3, 654321, 5, 6], b=[1, 2, 3, 654321, 5, 6] (id(c) == id(b)=True)\n"
     ]
    }
   ],
   "source": [
    "b = [1, 2, 3]\n",
    "b.extend([4, 5, 6]) # this will extend list b by the list\n",
    "# b == [1, 2, 3, 4, 5, 6]\n",
    "c = b # assign b to c, they both now refer to the same object\n",
    "print(f\"BEFORE: {c=}, {b=} ({id(c) == id(b)=})\")\n",
    "print(f\"\\t{id(c)=:#x}, {id(b)=:#x}\")\n",
    "# don't believe me? let's try: we _only_ change the value at index 3 of b (leaving c untouched)\n",
    "b[3] = 654321\n",
    "print(f\"AFTER : {c=}, {b=} ({id(c) == id(b)=})\")"
   ]
  },
  {
   "cell_type": "markdown",
   "id": "b2852f77-e95a-4fad-bc86-d862a5821404",
   "metadata": {},
   "source": [
    "... huh? ... so if `c` and `b` now refer to the same object, how do you dissociate them?"
   ]
  },
  {
   "cell_type": "code",
   "execution_count": 49,
   "id": "c783df0e-cbb3-421c-9cc9-16874fd5931c",
   "metadata": {},
   "outputs": [
    {
     "name": "stdout",
     "output_type": "stream",
     "text": [
      "BEFORE: c=[1, 2, 3, 4, 5, 6], b=[1, 2, 3, 4, 5, 6] (id(c) == id(b)=False)\n",
      "\tid(c)=0x2373bce0f80, id(b)=0x2373b6f7a80\n",
      "AFTER : c=[1, 2, 3, 4, 5, 6], b=[1, 2, 3, 654321, 5, 6] (id(c) == id(b)=False)\n"
     ]
    }
   ],
   "source": [
    "b = [1, 2, 3]\n",
    "b.extend([4, 5, 6]) # this will extend list b by the list\n",
    "# b == [1, 2, 3, 4, 5, 6]\n",
    "c = b[:] # we use slicing without start and end index to copy the whole list\n",
    "print(f\"BEFORE: {c=}, {b=} ({id(c) == id(b)=})\")\n",
    "print(f\"\\t{id(c)=:#x}, {id(b)=:#x}\")\n",
    "b[3] = 654321 # just like before\n",
    "print(f\"AFTER : {c=}, {b=} ({id(c) == id(b)=})\")"
   ]
  },
  {
   "cell_type": "markdown",
   "id": "d466772e-9da3-4101-b288-075dbea5bbfb",
   "metadata": {},
   "source": [
    "As you can see `b` and `c` are now two distinct objects and manipulating the element at `b[3]` does not affect `c` in any way!"
   ]
  },
  {
   "cell_type": "markdown",
   "id": "79b3edf1-82e8-42b9-8fcb-fa5d9b8eaf89",
   "metadata": {},
   "source": [
    "The same can be achieved (also for types that have no slicing support, i.e. non-sequence types) with [`copy.deepcopy`](https://docs.python.org/3.13/library/copy.html#copy.deepcopy)."
   ]
  },
  {
   "cell_type": "code",
   "execution_count": 50,
   "id": "b64e0231-3dc3-4877-b8d2-11bd881f3970",
   "metadata": {},
   "outputs": [
    {
     "name": "stdout",
     "output_type": "stream",
     "text": [
      "BEFORE: c=[1, 2, 3, 4, 5, 6], b=[1, 2, 3, 4, 5, 6] (id(c) == id(b)=False)\n",
      "\tid(c)=0x2373bce1100, id(b)=0x2373bce1940\n",
      "AFTER : c=[1, 2, 3, 4, 5, 6], b=[1, 2, 3, 654321, 5, 6] (id(c) == id(b)=False)\n"
     ]
    }
   ],
   "source": [
    "b = [1, 2, 3]\n",
    "b.extend([4, 5, 6]) # this will extend list b by the list\n",
    "# b == [1, 2, 3, 4, 5, 6]\n",
    "from copy import deepcopy # import the deepcopy() function from the copy module\n",
    "c = deepcopy(b)\n",
    "print(f\"BEFORE: {c=}, {b=} ({id(c) == id(b)=})\")\n",
    "print(f\"\\t{id(c)=:#x}, {id(b)=:#x}\")\n",
    "b[3] = 654321 # just like before\n",
    "print(f\"AFTER : {c=}, {b=} ({id(c) == id(b)=})\")"
   ]
  },
  {
   "cell_type": "markdown",
   "id": "66484a8f-0e9b-4750-b97a-5e2f0ddc6533",
   "metadata": {},
   "source": [
    "As you can see, the same effect!"
   ]
  },
  {
   "cell_type": "markdown",
   "id": "f5e7f3b6-9894-481c-9301-d3d29fe12880",
   "metadata": {},
   "source": [
    "## Back to strings: raw strings\n",
    "\n",
    "They allow you to type backslashes without having to escape them."
   ]
  },
  {
   "cell_type": "code",
   "execution_count": 51,
   "id": "f2b70c98-4b8f-4fb9-9308-e416d2c168f3",
   "metadata": {},
   "outputs": [
    {
     "data": {
      "text/plain": [
       "'bla\\\\blubb'"
      ]
     },
     "execution_count": 51,
     "metadata": {},
     "output_type": "execute_result"
    }
   ],
   "source": [
    "r\"bla\\blubb\""
   ]
  },
  {
   "cell_type": "markdown",
   "id": "145a43e2-9e62-4e07-943f-cf389355d9bb",
   "metadata": {},
   "source": [
    "Normally if you wanted to type a `\"` without escaping them you'd use single-quoted strings:"
   ]
  },
  {
   "cell_type": "code",
   "execution_count": 52,
   "id": "7350dddc-0edb-48b8-910f-4ca72d9e17a1",
   "metadata": {},
   "outputs": [
    {
     "data": {
      "text/plain": [
       "'author Tom says \"boo\"'"
      ]
     },
     "execution_count": 52,
     "metadata": {},
     "output_type": "execute_result"
    }
   ],
   "source": [
    "'author Tom says \"boo\"'"
   ]
  },
  {
   "cell_type": "markdown",
   "id": "00cf53e5-3564-4192-8db8-04ca78d8b66a",
   "metadata": {},
   "source": [
    "If we were to use a double-quoted string you'd have to escape the double quotes like so:"
   ]
  },
  {
   "cell_type": "code",
   "execution_count": 53,
   "id": "f70da5c6-b679-45c3-8261-c222f3241fef",
   "metadata": {},
   "outputs": [
    {
     "data": {
      "text/plain": [
       "'author Tom says \"boo\"'"
      ]
     },
     "execution_count": 53,
     "metadata": {},
     "output_type": "execute_result"
    }
   ],
   "source": [
    "\"author Tom says \\\"boo\\\"\""
   ]
  },
  {
   "cell_type": "markdown",
   "id": "674488b1-843b-4de0-a2e1-b9ca31ce2bac",
   "metadata": {},
   "source": [
    "Same effect."
   ]
  },
  {
   "cell_type": "markdown",
   "id": "5702f3b6-7c68-4dfa-a99d-3a2c08fb37e1",
   "metadata": {},
   "source": [
    "## Interlude: string escaping\n",
    "\n",
    "The purpose is to be able to express characters that cannot otherwise be expressed, e.g. line breaks (i.e. `\\n` and `\\r`) or tabulators (`\\t`). It can also be used to \"escape\" the conundrum that you want to use a character such as `\"` inside a `\"...\"` (double-quoted) string or `'` inside a `'...'` (single-quoted) string.\n",
    "\n",
    "The escape character is a backslash `\\`. But now if you wanted to use a backslash verbatim you'd have to resort to raw strings (see above: `r\"...\\...\"`) or escape the escape character: `\"...\\\\...\"`.\n",
    "\n",
    "* `\\n` line feed\n",
    "* `\\r` carriage return\n",
    "* `\\b` backspace\n",
    "* `\\t` tabulator\n",
    "* `\\\\` literal backslash\n",
    "* ... several more\n",
    "\n",
    "### \"Regular expression strings\"? Nope: raw strings ...\n",
    "\n",
    "You will often see raw strings in the context of regular expressions. However, the `r` does **not** mean regular expression or some such. It stands for raw.\n",
    "\n",
    "The reason they often occur in this context is that they are convienent as regular expressions themselves use backslashes as escape characters. So in order to achieve the desired effect inside the regular expression you first need to sidestep the string escaping from the Python side before the regular expression engine sees it.\n",
    "\n",
    "As an example consider a regular expression that attempts to match anything from the start of a line (`^`) _but_ the line feed character (i.e. `[^\\n]+`). Both Python and regular expressions know of `\\n`. So if we use:\n",
    "\n",
    "```\n",
    "\"^[^\\n]+\"\n",
    "```\n",
    "\n",
    "Python will already have converted the `\\n` to a literal line feed. This _may_ work and match. However, if you wanted the regular expression engine to see an actual backslash followed by an n then you'd have to use:\n",
    "\n",
    "```\n",
    "\"^[^\\\\\\n]+\"\n",
    "```\n",
    "\n",
    "As you can see this can go overboard easily.  By using a raw string we convey the same without going through hoops:\n",
    "\n",
    "```\n",
    "r\"^[^\\n]+\"\n",
    "```"
   ]
  },
  {
   "cell_type": "markdown",
   "id": "f708295e-3d59-484c-a635-69cd6b9c7f3e",
   "metadata": {},
   "source": [
    "## Raw strings one last time (for now)\n",
    "\n",
    "You can even combine raw strings and f-strings like so."
   ]
  },
  {
   "cell_type": "code",
   "execution_count": 54,
   "id": "c2f97085-893e-47fa-881b-dbd00547728f",
   "metadata": {},
   "outputs": [
    {
     "data": {
      "text/plain": [
       "'^foobar[^\\\\n]+?$'"
      ]
     },
     "execution_count": 54,
     "metadata": {},
     "output_type": "execute_result"
    }
   ],
   "source": [
    "a = \"foobar\"\n",
    "fr\"^{a}[^\\n]+?$\""
   ]
  },
  {
   "cell_type": "markdown",
   "id": "283a903b-4f97-41db-9bae-ea6324d56356",
   "metadata": {},
   "source": [
    "It may not be immediately evident, but this is incredibly useful if you want to \"build\" regular expressions that are to match certain literal values (like `foobar` in this case) within a bigger string.\n",
    "\n",
    "PS: the meaning of the regular expression is: match a literal `foobar` at the beginning of a line (or string), followed by one or more characters that are _not_ a line feed (`\\n`) up until the end of the line (or string)."
   ]
  },
  {
   "cell_type": "markdown",
   "id": "b09eac83-d33d-4ca1-903e-0784100199b2",
   "metadata": {},
   "source": [
    "## Interlude: triple-quoted strings\n",
    "\n",
    "Triple-quoted strings offer the ability to use line breaks freely and embed double quotes freely inside a string.\n",
    "\n",
    "### Most basic form"
   ]
  },
  {
   "cell_type": "code",
   "execution_count": 55,
   "id": "88a9b1fb-e241-45bd-b032-34a18a057a06",
   "metadata": {},
   "outputs": [
    {
     "data": {
      "text/plain": [
       "'\\nSome\\nvery\\nvery\\nlong\\nmulti-line\\ntext\\n'"
      ]
     },
     "execution_count": 55,
     "metadata": {},
     "output_type": "execute_result"
    }
   ],
   "source": [
    "\"\"\"\n",
    "Some\n",
    "very\n",
    "very\n",
    "long\n",
    "multi-line\n",
    "text\n",
    "\"\"\""
   ]
  },
  {
   "cell_type": "markdown",
   "id": "4d9f20c9-32e6-4d86-975f-9131d413e282",
   "metadata": {},
   "source": [
    "The line breaks become part of the string. But imagine you are assigning with triple-quoting inside nested scope:"
   ]
  },
  {
   "cell_type": "code",
   "execution_count": 56,
   "id": "f91b2d2b-7cca-4195-8fe2-0ee108197b4e",
   "metadata": {},
   "outputs": [
    {
     "name": "stdout",
     "output_type": "stream",
     "text": [
      "'\\n    Some\\n      very\\n      very\\n    long\\n    multi-line\\n    text\\n    '\n"
     ]
    }
   ],
   "source": [
    "if True:\n",
    "    a = \"\"\"\n",
    "    Some\n",
    "      very\n",
    "      very\n",
    "    long\n",
    "    multi-line\n",
    "    text\n",
    "    \"\"\"\n",
    "    print(repr(a))"
   ]
  },
  {
   "cell_type": "markdown",
   "id": "a6db2da5-1572-44f0-8a8d-1a320ffca4ab",
   "metadata": {},
   "source": [
    "Suddenly the leading blank spaces _also_ become part of the string. There is little you can do if you aim to observe the Python conventions. But one method is to use [textwrap.dedent](https://docs.python.org/3/library/textwrap.html#textwrap.dedent):"
   ]
  },
  {
   "cell_type": "code",
   "execution_count": 58,
   "id": "0478fe17-5295-4bc9-8e15-0b4ca9c2ff9c",
   "metadata": {},
   "outputs": [
    {
     "name": "stdout",
     "output_type": "stream",
     "text": [
      "'Some\\n  very\\n  very\\nlong\\nmulti-line\\ntext\\n'\n"
     ]
    }
   ],
   "source": [
    "import textwrap\n",
    "if True:\n",
    "    a = textwrap.dedent(\"\"\"\\\n",
    "    Some\n",
    "      very\n",
    "      very\n",
    "    long\n",
    "    multi-line\n",
    "    text\n",
    "    \"\"\")\n",
    "    print(repr(a))"
   ]
  },
  {
   "cell_type": "markdown",
   "id": "fcd5b648-db65-48ba-b205-8be09af7237c",
   "metadata": {},
   "source": [
    "Notice how I snuck in a trailing backslash (`\\`) after the opening `\"\"\"`. This is called a line continuation and also works in other contexts or with single and double quoted strings. The purpose is that the first line starts with the indentation of `Some` (four leading space) instead of an empty first line. And the reason is that `dedent()` uses the first line to deduce the indentation and strip that off of the start of each line.\n",
    "\n",
    "That's also the reason why the two additional spaces from the lines containing `very` are still there, while the overall indentation got removed."
   ]
  },
  {
   "cell_type": "markdown",
   "id": "37c7ef9f-6126-455e-bca3-57510f1e0ed8",
   "metadata": {},
   "source": [
    "### Doc-strings\n",
    "\n",
    "Very often you will see so-called doc-strings which end up populating the `__doc__` magic attribute and are used -- among other things -- to auto-generate documentation.\n",
    "\n",
    "That's were often you will see triple-quoted strings. But that's not a hard rule. Single and double quoted will work equally well, but may require you to be more explicit when it comes to line breaks."
   ]
  },
  {
   "cell_type": "code",
   "execution_count": 59,
   "id": "ca7449b0-5c52-47a3-9bff-0e75c355fe5f",
   "metadata": {},
   "outputs": [
    {
     "data": {
      "text/plain": [
       "'Here goes the description\\n    '"
      ]
     },
     "execution_count": 59,
     "metadata": {},
     "output_type": "execute_result"
    }
   ],
   "source": [
    "def foo():\n",
    "    \"\"\"\\\n",
    "    Here goes the description\n",
    "    \"\"\"\n",
    "    ...\n",
    "foo.__doc__"
   ]
  },
  {
   "cell_type": "markdown",
   "id": "09ebe119-0f47-410b-be1b-9952d4900211",
   "metadata": {},
   "source": [
    "## That was the gist of basic types with a slight bias towards strings."
   ]
  }
 ],
 "metadata": {
  "kernelspec": {
   "display_name": "Python 3 (ipykernel)",
   "language": "python",
   "name": "python3"
  },
  "language_info": {
   "codemirror_mode": {
    "name": "ipython",
    "version": 3
   },
   "file_extension": ".py",
   "mimetype": "text/x-python",
   "name": "python",
   "nbconvert_exporter": "python",
   "pygments_lexer": "ipython3",
   "version": "3.13.7"
  }
 },
 "nbformat": 4,
 "nbformat_minor": 5
}
