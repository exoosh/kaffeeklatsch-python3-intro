{
 "cells": [
  {
   "cell_type": "markdown",
   "id": "a4fd4bcc-7922-4b47-80d9-ef9d68715f02",
   "metadata": {},
   "source": [
    "# Python basics"
   ]
  },
  {
   "cell_type": "markdown",
   "id": "c856b36e-4c75-4365-944c-f2022b1906ec",
   "metadata": {},
   "source": [
    "## Whitespace\n",
    "\n",
    "* whitespace in the form of **indentation matters**, e.g. (note the second line's indentation):\n",
    "  ```\n",
    "  if condition:\n",
    "      ...\n",
    "  ```\n",
    "    * there's semantic meaning here, the `...` is the code to be executed when the condition is true\n",
    "* blank space as opposed to tab is recommended ([PEP8](https://peps.python.org/pep-0008/)), 4 spaces per indentation level are customary"
   ]
  },
  {
   "cell_type": "code",
   "execution_count": 2,
   "id": "00e445a0-3eb9-46f1-8e5a-a112c02d3190",
   "metadata": {},
   "outputs": [],
   "source": [
    "if True:\n",
    "    ...    "
   ]
  },
  {
   "cell_type": "markdown",
   "id": "d5181263-4584-4c98-bcb8-e2b808d40cec",
   "metadata": {},
   "source": [
    "## Comments\n",
    "\n",
    "* A hash sign (`#`) introduces a single-line comment\n",
    "* There are no multi-line comments per-se, but one can (ab)use triple-quoted links instead (more on that later)"
   ]
  },
  {
   "cell_type": "code",
   "execution_count": 3,
   "id": "efc28944-aae8-44f6-9782-6ca13418ed64",
   "metadata": {},
   "outputs": [],
   "source": [
    "# this is a comment"
   ]
  },
  {
   "cell_type": "markdown",
   "id": "eabd741b-3801-4626-9b44-c4a31d5f7cb6",
   "metadata": {},
   "source": [
    "## Hello world"
   ]
  },
  {
   "cell_type": "code",
   "execution_count": 4,
   "id": "261139ae-cfae-436c-9611-3d44a5a38d50",
   "metadata": {},
   "outputs": [
    {
     "name": "stdout",
     "output_type": "stream",
     "text": [
      "Hello world\n"
     ]
    }
   ],
   "source": [
    "print(\"Hello world\")"
   ]
  },
  {
   "cell_type": "markdown",
   "id": "30de9ec2-44bb-4ba3-a632-dc60fe1ba581",
   "metadata": {},
   "source": [
    "## What are variables?"
   ]
  },
  {
   "cell_type": "code",
   "execution_count": 5,
   "id": "b92063c2-c9fa-4a8b-9a81-d76945b32f36",
   "metadata": {},
   "outputs": [
    {
     "data": {
      "text/plain": [
       "1"
      ]
     },
     "execution_count": 5,
     "metadata": {},
     "output_type": "execute_result"
    }
   ],
   "source": [
    "a = 1\n",
    "a"
   ]
  },
  {
   "cell_type": "markdown",
   "id": "58fe3ec3-ec1e-4f01-ac7a-cf415fc89537",
   "metadata": {},
   "source": [
    "## What are types?"
   ]
  },
  {
   "cell_type": "code",
   "execution_count": 6,
   "id": "58a9d094-5506-4f4c-a330-11ffba95c7f9",
   "metadata": {},
   "outputs": [
    {
     "data": {
      "text/plain": [
       "int"
      ]
     },
     "execution_count": 6,
     "metadata": {},
     "output_type": "execute_result"
    }
   ],
   "source": [
    "type(1)"
   ]
  },
  {
   "cell_type": "code",
   "execution_count": 7,
   "id": "40740d6f-9b7f-46f7-91ce-060d67b5304c",
   "metadata": {},
   "outputs": [
    {
     "data": {
      "text/plain": [
       "str"
      ]
     },
     "execution_count": 7,
     "metadata": {},
     "output_type": "execute_result"
    }
   ],
   "source": [
    "type(\"hello\")"
   ]
  },
  {
   "cell_type": "markdown",
   "id": "21fb3d05-b266-44ef-aa97-30d964bfc2fd",
   "metadata": {},
   "source": [
    "## Python is object-oriented, what does that mean?"
   ]
  },
  {
   "cell_type": "code",
   "execution_count": 8,
   "id": "9972bca8-9a14-4095-89b9-8ca822b87da6",
   "metadata": {},
   "outputs": [
    {
     "data": {
      "text/plain": [
       "['__abs__',\n",
       " '__add__',\n",
       " '__and__',\n",
       " '__bool__',\n",
       " '__ceil__',\n",
       " '__class__',\n",
       " '__delattr__',\n",
       " '__dir__',\n",
       " '__divmod__',\n",
       " '__doc__',\n",
       " '__eq__',\n",
       " '__float__',\n",
       " '__floor__',\n",
       " '__floordiv__',\n",
       " '__format__',\n",
       " '__ge__',\n",
       " '__getattribute__',\n",
       " '__getnewargs__',\n",
       " '__getstate__',\n",
       " '__gt__',\n",
       " '__hash__',\n",
       " '__index__',\n",
       " '__init__',\n",
       " '__init_subclass__',\n",
       " '__int__',\n",
       " '__invert__',\n",
       " '__le__',\n",
       " '__lshift__',\n",
       " '__lt__',\n",
       " '__mod__',\n",
       " '__mul__',\n",
       " '__ne__',\n",
       " '__neg__',\n",
       " '__new__',\n",
       " '__or__',\n",
       " '__pos__',\n",
       " '__pow__',\n",
       " '__radd__',\n",
       " '__rand__',\n",
       " '__rdivmod__',\n",
       " '__reduce__',\n",
       " '__reduce_ex__',\n",
       " '__repr__',\n",
       " '__rfloordiv__',\n",
       " '__rlshift__',\n",
       " '__rmod__',\n",
       " '__rmul__',\n",
       " '__ror__',\n",
       " '__round__',\n",
       " '__rpow__',\n",
       " '__rrshift__',\n",
       " '__rshift__',\n",
       " '__rsub__',\n",
       " '__rtruediv__',\n",
       " '__rxor__',\n",
       " '__setattr__',\n",
       " '__sizeof__',\n",
       " '__str__',\n",
       " '__sub__',\n",
       " '__subclasshook__',\n",
       " '__truediv__',\n",
       " '__trunc__',\n",
       " '__xor__',\n",
       " 'as_integer_ratio',\n",
       " 'bit_count',\n",
       " 'bit_length',\n",
       " 'conjugate',\n",
       " 'denominator',\n",
       " 'from_bytes',\n",
       " 'imag',\n",
       " 'is_integer',\n",
       " 'numerator',\n",
       " 'real',\n",
       " 'to_bytes']"
      ]
     },
     "execution_count": 8,
     "metadata": {},
     "output_type": "execute_result"
    }
   ],
   "source": [
    "dir(123)"
   ]
  },
  {
   "cell_type": "code",
   "execution_count": 9,
   "id": "65b462e8-0fac-4fb0-8d4c-5392ee16cec3",
   "metadata": {},
   "outputs": [
    {
     "data": {
      "text/plain": [
       "28782"
      ]
     },
     "execution_count": 9,
     "metadata": {},
     "output_type": "execute_result"
    }
   ],
   "source": [
    "123 * 234\n",
    "123 .__mul__(234)"
   ]
  },
  {
   "cell_type": "markdown",
   "id": "93ccb7d2-6479-4bd8-9d19-39b1434e91d9",
   "metadata": {},
   "source": [
    "## Errors (exceptions)\n",
    "\n",
    "* `raise`d, not `throw`n in Python"
   ]
  },
  {
   "cell_type": "code",
   "execution_count": 10,
   "id": "4313438a-25fb-466a-a383-bbf76f66c85b",
   "metadata": {},
   "outputs": [
    {
     "ename": "NameError",
     "evalue": "name 'foobar' is not defined",
     "output_type": "error",
     "traceback": [
      "\u001b[1;31m---------------------------------------------------------------------------\u001b[0m",
      "\u001b[1;31mNameError\u001b[0m                                 Traceback (most recent call last)",
      "Cell \u001b[1;32mIn[10], line 1\u001b[0m\n\u001b[1;32m----> 1\u001b[0m \u001b[43mfoobar\u001b[49m\n",
      "\u001b[1;31mNameError\u001b[0m: name 'foobar' is not defined"
     ]
    }
   ],
   "source": [
    "foobar"
   ]
  },
  {
   "cell_type": "markdown",
   "id": "3f1dc155-0e22-4cb8-b78e-099f6100cc75",
   "metadata": {},
   "source": [
    "## Assignments (... variables continued)\n",
    "\n",
    "* Parameters are passed by assignment (more on that later)"
   ]
  },
  {
   "cell_type": "code",
   "execution_count": 15,
   "id": "4c16651f-3a1a-490f-9807-726d1851f8d9",
   "metadata": {},
   "outputs": [
    {
     "name": "stdout",
     "output_type": "stream",
     "text": [
      "42\n"
     ]
    },
    {
     "data": {
      "text/plain": [
       "1764"
      ]
     },
     "execution_count": 15,
     "metadata": {},
     "output_type": "execute_result"
    }
   ],
   "source": [
    "a = 42\n",
    "b = a ** 2\n",
    "print(a)\n",
    "b"
   ]
  },
  {
   "cell_type": "markdown",
   "id": "e11671e9-d06a-49b9-90b5-2008e29dce94",
   "metadata": {},
   "source": [
    "## Types continued: `bool`"
   ]
  },
  {
   "cell_type": "code",
   "execution_count": 16,
   "id": "f9d3d98a-0fda-4f3d-b664-6c5fbafb50ba",
   "metadata": {},
   "outputs": [
    {
     "name": "stdout",
     "output_type": "stream",
     "text": [
      "True\n"
     ]
    }
   ],
   "source": [
    "x = True\n",
    "if x:\n",
    "    print(x)"
   ]
  },
  {
   "cell_type": "code",
   "execution_count": 20,
   "id": "816563b8-0cd6-43b9-9a04-2703f9a42974",
   "metadata": {},
   "outputs": [
    {
     "name": "stdout",
     "output_type": "stream",
     "text": [
      "it's false\n"
     ]
    }
   ],
   "source": [
    "x = False\n",
    "if x:\n",
    "    print(x)\n",
    "else:\n",
    "    print(\"it's false\")"
   ]
  },
  {
   "cell_type": "markdown",
   "id": "7e219dff-f525-4ed9-bcd8-5d6bfd2aee4b",
   "metadata": {},
   "source": [
    "## `None` singleton\n",
    "\n",
    "* Singleton -- exists only once in the whole \"language\""
   ]
  },
  {
   "cell_type": "code",
   "execution_count": 23,
   "id": "81155e1e-efc4-4269-90c8-00f473ee3a21",
   "metadata": {},
   "outputs": [],
   "source": [
    "if None:\n",
    "    print(\"what's this?\")"
   ]
  },
  {
   "cell_type": "markdown",
   "id": "4db9f404-afdf-4b00-bac3-7ac7bd462e69",
   "metadata": {},
   "source": [
    "## Types continued: `int`\n",
    "\n",
    "* `int` for integer"
   ]
  },
  {
   "cell_type": "code",
   "execution_count": 24,
   "id": "a6a47e21-a402-4aad-884e-cd069836e8bd",
   "metadata": {},
   "outputs": [
    {
     "data": {
      "text/plain": [
       "123"
      ]
     },
     "execution_count": 24,
     "metadata": {},
     "output_type": "execute_result"
    }
   ],
   "source": [
    "123"
   ]
  },
  {
   "cell_type": "code",
   "execution_count": 25,
   "id": "2eafe831-3d8d-45bc-a8f5-01fbc0420e5a",
   "metadata": {},
   "outputs": [
    {
     "data": {
      "text/plain": [
       "28782"
      ]
     },
     "execution_count": 25,
     "metadata": {},
     "output_type": "execute_result"
    }
   ],
   "source": [
    "123 * 234"
   ]
  },
  {
   "cell_type": "code",
   "execution_count": 26,
   "id": "ff9b53e4-3b68-4fcc-aa4f-436f251d6193",
   "metadata": {},
   "outputs": [
    {
     "data": {
      "text/plain": [
       "357"
      ]
     },
     "execution_count": 26,
     "metadata": {},
     "output_type": "execute_result"
    }
   ],
   "source": [
    "123 + 234"
   ]
  },
  {
   "cell_type": "code",
   "execution_count": 29,
   "id": "0a9a994b-0752-42a2-860b-ff403dab985b",
   "metadata": {},
   "outputs": [
    {
     "data": {
      "text/plain": [
       "float"
      ]
     },
     "execution_count": 29,
     "metadata": {},
     "output_type": "execute_result"
    }
   ],
   "source": [
    "123 / 234\n",
    "type(123 / 234)"
   ]
  },
  {
   "cell_type": "code",
   "execution_count": 30,
   "id": "7f6cb6f5-b5c2-428b-a02b-57f5613260fd",
   "metadata": {},
   "outputs": [
    {
     "data": {
      "text/plain": [
       "111"
      ]
     },
     "execution_count": 30,
     "metadata": {},
     "output_type": "execute_result"
    }
   ],
   "source": [
    "334 // 3"
   ]
  },
  {
   "cell_type": "code",
   "execution_count": 31,
   "id": "8daff1dd-abdc-4576-a001-9fa0f3b86dc7",
   "metadata": {},
   "outputs": [
    {
     "data": {
      "text/plain": [
       "89"
      ]
     },
     "execution_count": 31,
     "metadata": {},
     "output_type": "execute_result"
    }
   ],
   "source": [
    "123 - 34"
   ]
  },
  {
   "cell_type": "code",
   "execution_count": 32,
   "id": "4ec0d83e-8d0c-4490-bc99-984719d880c0",
   "metadata": {},
   "outputs": [
    {
     "data": {
      "text/plain": [
       "-112"
      ]
     },
     "execution_count": 32,
     "metadata": {},
     "output_type": "execute_result"
    }
   ],
   "source": [
    "-334 // 3"
   ]
  },
  {
   "cell_type": "code",
   "execution_count": 33,
   "id": "7200d881-006e-4722-aa08-bba5b0860d36",
   "metadata": {},
   "outputs": [
    {
     "data": {
      "text/plain": [
       "1"
      ]
     },
     "execution_count": 33,
     "metadata": {},
     "output_type": "execute_result"
    }
   ],
   "source": [
    "10 % 3"
   ]
  },
  {
   "cell_type": "code",
   "execution_count": 34,
   "id": "a6181b7e-0ba6-4176-8be1-af03fcac03c4",
   "metadata": {},
   "outputs": [
    {
     "data": {
      "text/plain": [
       "3"
      ]
     },
     "execution_count": 34,
     "metadata": {},
     "output_type": "execute_result"
    }
   ],
   "source": [
    "10 // 3"
   ]
  },
  {
   "cell_type": "markdown",
   "id": "7851ba37-a2bb-4d61-8d5a-c5f79e72980d",
   "metadata": {},
   "source": [
    "## Types continued: `float`\n",
    "\n",
    "* `float` is short for floating point number"
   ]
  },
  {
   "cell_type": "code",
   "execution_count": 35,
   "id": "00ef7a4b-7636-44f4-a591-33ee34d3e9c2",
   "metadata": {},
   "outputs": [
    {
     "data": {
      "text/plain": [
       "123.45"
      ]
     },
     "execution_count": 35,
     "metadata": {},
     "output_type": "execute_result"
    }
   ],
   "source": [
    "123.45"
   ]
  },
  {
   "cell_type": "code",
   "execution_count": 36,
   "id": "863d1bf3-24e8-4922-9beb-c6096707274b",
   "metadata": {},
   "outputs": [
    {
     "data": {
      "text/plain": [
       "0.3333333333333333"
      ]
     },
     "execution_count": 36,
     "metadata": {},
     "output_type": "execute_result"
    }
   ],
   "source": [
    "1/3"
   ]
  },
  {
   "cell_type": "markdown",
   "id": "6af4a4ed-9653-4775-bfa5-d2cab6dfa0c3",
   "metadata": {},
   "source": [
    "## Built-in function: `len()`\n",
    "\n",
    "* `len` is short for length"
   ]
  },
  {
   "cell_type": "markdown",
   "id": "313bd13c-e02e-4569-bf21-15681af768ad",
   "metadata": {},
   "source": [
    "## Types continued: `str`\n",
    "\n",
    "* `str` is short for string\n",
    "* sequence (ordered) of characters\n",
    "    * stores text"
   ]
  },
  {
   "cell_type": "code",
   "execution_count": 38,
   "id": "d423d2c2-f3e6-419f-bacf-28161b13e0bc",
   "metadata": {},
   "outputs": [
    {
     "data": {
      "text/plain": [
       "'😁'"
      ]
     },
     "execution_count": 38,
     "metadata": {},
     "output_type": "execute_result"
    }
   ],
   "source": [
    "\"😁\""
   ]
  },
  {
   "cell_type": "code",
   "execution_count": 40,
   "id": "859d36a8-8343-4c6e-8ddc-309b5d1955bc",
   "metadata": {},
   "outputs": [
    {
     "name": "stdout",
     "output_type": "stream",
     "text": [
      "Found an o\n"
     ]
    }
   ],
   "source": [
    "if \"o\" in \"Hello world\":\n",
    "    print(\"Found an o\")"
   ]
  },
  {
   "cell_type": "code",
   "execution_count": 41,
   "id": "f0b9bc15-cd53-4a90-9fb8-871c1118aabd",
   "metadata": {},
   "outputs": [
    {
     "data": {
      "text/plain": [
       "11"
      ]
     },
     "execution_count": 41,
     "metadata": {},
     "output_type": "execute_result"
    }
   ],
   "source": [
    "len(\"Hello world\")"
   ]
  },
  {
   "cell_type": "code",
   "execution_count": 42,
   "id": "36485322-adb5-46a8-8563-a33de05c214b",
   "metadata": {},
   "outputs": [
    {
     "data": {
      "text/plain": [
       "1"
      ]
     },
     "execution_count": 42,
     "metadata": {},
     "output_type": "execute_result"
    }
   ],
   "source": [
    "len(\"😁\")"
   ]
  },
  {
   "cell_type": "code",
   "execution_count": 43,
   "id": "27fceec8-8ab2-4146-9b20-34ea95575c9e",
   "metadata": {},
   "outputs": [
    {
     "data": {
      "text/plain": [
       "str"
      ]
     },
     "execution_count": 43,
     "metadata": {},
     "output_type": "execute_result"
    }
   ],
   "source": [
    "type(\"hello\")"
   ]
  },
  {
   "cell_type": "markdown",
   "id": "367a6344-d2fc-4f3a-a4bd-93bba2df5f4a",
   "metadata": {},
   "source": [
    "### creating string from scratch"
   ]
  },
  {
   "cell_type": "code",
   "execution_count": 44,
   "id": "46de7d0a-736d-4949-841d-99295c86b557",
   "metadata": {},
   "outputs": [
    {
     "data": {
      "text/plain": [
       "'123'"
      ]
     },
     "execution_count": 44,
     "metadata": {},
     "output_type": "execute_result"
    }
   ],
   "source": [
    "str(123)"
   ]
  },
  {
   "cell_type": "code",
   "execution_count": 45,
   "id": "dc701e38-4e2e-4d36-8949-bfa75c9d1b02",
   "metadata": {},
   "outputs": [
    {
     "data": {
      "text/plain": [
       "builtin_function_or_method"
      ]
     },
     "execution_count": 45,
     "metadata": {},
     "output_type": "execute_result"
    }
   ],
   "source": [
    "type(len)"
   ]
  },
  {
   "cell_type": "code",
   "execution_count": 46,
   "id": "3cab3408-f4cf-47b4-beca-06c905e0a003",
   "metadata": {},
   "outputs": [
    {
     "data": {
      "text/plain": [
       "'<built-in function len>'"
      ]
     },
     "execution_count": 46,
     "metadata": {},
     "output_type": "execute_result"
    }
   ],
   "source": [
    "repr(len)"
   ]
  },
  {
   "cell_type": "markdown",
   "id": "647fb6c0-0bde-497b-81b2-4cb16616f993",
   "metadata": {},
   "source": [
    "### Slicing"
   ]
  },
  {
   "cell_type": "code",
   "execution_count": 57,
   "id": "d16f21b5-2166-4f54-9937-1df806b9e068",
   "metadata": {},
   "outputs": [
    {
     "name": "stdout",
     "output_type": "stream",
     "text": [
      "d\n",
      "H\n",
      "lo \n",
      "lo world\n"
     ]
    }
   ],
   "source": [
    "hello = \"Hello world\"\n",
    "# access last character\n",
    "print(hello[-1])\n",
    "# access first character\n",
    "print(hello[0])\n",
    "# take characters from index 3 up to 6 (0-based)\n",
    "print(hello[3:6])\n",
    "# take everything from index 3 (0-based)\n",
    "print(hello[3:])"
   ]
  },
  {
   "cell_type": "markdown",
   "id": "76d61c8f-d679-447d-b648-4a9b039cd72c",
   "metadata": {},
   "source": [
    "## Conditions: `if` / `elif` / `else`"
   ]
  }
 ],
 "metadata": {
  "kernelspec": {
   "display_name": "Python 3 (ipykernel)",
   "language": "python",
   "name": "python3"
  },
  "language_info": {
   "codemirror_mode": {
    "name": "ipython",
    "version": 3
   },
   "file_extension": ".py",
   "mimetype": "text/x-python",
   "name": "python",
   "nbconvert_exporter": "python",
   "pygments_lexer": "ipython3",
   "version": "3.13.1"
  }
 },
 "nbformat": 4,
 "nbformat_minor": 5
}
