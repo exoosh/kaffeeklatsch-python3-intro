{
 "cells": [
  {
   "cell_type": "markdown",
   "id": "234be687-2dc7-45e6-9cd6-f95af2a97a3b",
   "metadata": {},
   "source": [
    "# Python basics continued"
   ]
  },
  {
   "cell_type": "markdown",
   "id": "a9e4d6d6-5b4c-4439-825c-e49f0a0d4620",
   "metadata": {},
   "source": [
    "## Compound statements: `if` / `elif` / `else`\n",
    "\n",
    "A compound statement is a statement is comprised of several components that together make up the statement.\n",
    "\n",
    "Here is an example with `if`:"
   ]
  },
  {
   "cell_type": "code",
   "execution_count": 1,
   "id": "034125ff-813c-48bb-8ae9-787ca23c4782",
   "metadata": {},
   "outputs": [
    {
     "name": "stdout",
     "output_type": "stream",
     "text": [
      "First branch\n"
     ]
    }
   ],
   "source": [
    "if \"123\":\n",
    "    print(\"First branch\")\n",
    "elif \"456\":\n",
    "    print(\"Second branch\")\n",
    "# elif ...\n",
    "else:\n",
    "    print(\"Unknown condition\")"
   ]
  },
  {
   "cell_type": "markdown",
   "id": "b9e8356b-94be-4c61-805a-5e32191ca8c1",
   "metadata": {},
   "source": [
    "The `if` condition gets continued by the `elif` condition and concluded by the `else` branch. Multiple `elif` can occcur.\n",
    "\n",
    "### Don't confuse Python `elif` with C `else if`!\n",
    "\n",
    "**NB:** if you are coming from a C-like language, chances are that you have a misconception about how `if` works. While you will often encounter code formatted like this:\n",
    "\n",
    "```c\n",
    "if (condition1)\n",
    "    /* some code */;\n",
    "else if (condition2)\n",
    "    /* some code */;\n",
    "else if (condition3)\n",
    "    /* some code */;\n",
    "```\n",
    "\n",
    "... which is suggestive of an `elif`-like concept. Alas, the above code would better be formatted as:\n",
    "\n",
    "```c\n",
    "if (condition1)\n",
    "    /* some code */;\n",
    "else\n",
    "    if (condition2)\n",
    "        /* some code */;\n",
    "    else\n",
    "        if (condition3)\n",
    "            /* some code */;\n",
    "```\n",
    "\n",
    "The point here being that the last `else` belongs with `if (condition2)`, not with `if (condition1)`. This may seem like an irrelevant point, but it is not. In modern C++ you have `if constexpr`, but no `else constexpr`. The reason being because it's _always_ clear to which `if` the `else` belongs.\n",
    "\n",
    "This _also_ plays into nesting. And compilers are allowed to put limits on nesting depth. So if you continue the above code up to `condition100` or higher you will eventually end up hitting compiler limitations.\n"
   ]
  },
  {
   "cell_type": "markdown",
   "id": "09ead800-c1a4-4297-ad05-3c7c79be2c9e",
   "metadata": {},
   "source": [
    "A non-empty string evaluates to true:"
   ]
  },
  {
   "cell_type": "code",
   "execution_count": 2,
   "id": "382fb01f-080b-4aff-b9f1-6a7a5458c343",
   "metadata": {},
   "outputs": [
    {
     "name": "stdout",
     "output_type": "stream",
     "text": [
      "True\n"
     ]
    }
   ],
   "source": [
    "if \"1\":\n",
    "    print(True)"
   ]
  },
  {
   "cell_type": "markdown",
   "id": "15e77987-0249-4420-b5a1-eac653b09e9d",
   "metadata": {},
   "source": [
    "... an empty one does not:"
   ]
  },
  {
   "cell_type": "code",
   "execution_count": 3,
   "id": "4648a29f-23c9-4eaa-bad7-19a4c5b73d31",
   "metadata": {},
   "outputs": [],
   "source": [
    "if \"\":\n",
    "    print(True)"
   ]
  },
  {
   "cell_type": "markdown",
   "id": "ac6502cc-5ae4-46ff-81d9-1882363ee99b",
   "metadata": {},
   "source": [
    "`None` evaluates to false as well as can be seen here:"
   ]
  },
  {
   "cell_type": "code",
   "execution_count": 4,
   "id": "d55f64bc-6453-4630-a6fa-dd7413b59b80",
   "metadata": {},
   "outputs": [
    {
     "ename": "_IncompleteInputError",
     "evalue": "incomplete input (1668844746.py, line 4)",
     "output_type": "error",
     "traceback": [
      "  \u001b[36mCell\u001b[39m\u001b[36m \u001b[39m\u001b[32mIn[4]\u001b[39m\u001b[32m, line 4\u001b[39m\n\u001b[31m    \u001b[39m\u001b[31m# ....\u001b[39m\n          ^\n\u001b[31m_IncompleteInputError\u001b[39m\u001b[31m:\u001b[39m incomplete input\n"
     ]
    }
   ],
   "source": [
    "if None:\n",
    "    pass\n",
    "else:\n",
    "    # ...."
   ]
  },
  {
   "cell_type": "markdown",
   "id": "3e830fb3-20f7-44cc-9add-bbd73fb6c771",
   "metadata": {},
   "source": [
    "... or can it? The issue here is that instead of using `pass` or `...` we left the `else` branch empty, which is an input error.\n",
    "\n",
    "We can rectify it by using either `pass` or `...` as placeholders for code to be fleshed out later:"
   ]
  },
  {
   "cell_type": "code",
   "execution_count": 5,
   "id": "fcbde1ef-14d6-4df0-8643-a664004394fa",
   "metadata": {},
   "outputs": [],
   "source": [
    "if None:\n",
    "    pass\n",
    "else:\n",
    "    ..."
   ]
  },
  {
   "cell_type": "markdown",
   "id": "5ee61048-d68f-464e-b2d9-10aafb563ea9",
   "metadata": {},
   "source": [
    "## Interlude: `pass` vs. `...`\n",
    "\n",
    "* [`pass`](https://docs.python.org/3/reference/simple_stmts.html#the-pass-statement) is a simple statement in Python\n",
    "* ... whereas the [Ellipsis](https://docs.python.org/3/library/constants.html#Ellipsis) also known as `...` is a built-in constant; it's a singleton, too"
   ]
  },
  {
   "cell_type": "markdown",
   "id": "c1df94a9-cb93-4844-bebe-611d345e64b7",
   "metadata": {},
   "source": [
    "## Compound statements: `while` / `else`\n",
    "\n",
    "\"Wait, what?\" I hear you say ... we'll get to the curious case of `else` momentarily.\n",
    "\n",
    "A `while` compound statement is a loop construct such as in other languages. As long as the condition is true, it will keep looping over the loop body, i.e. execute the loop body."
   ]
  },
  {
   "cell_type": "markdown",
   "id": "75d48513-56bb-4935-b1fd-d47557fedf96",
   "metadata": {},
   "source": [
    "Consider the following example. `i` is merely a counter variable and we have two `if` conditions in the loop body. The first one causes 7 and 13 not to be printed (the [`continue` statement](https://docs.python.org/3/reference/simple_stmts.html#the-continue-statement)) and the other one causes the loop to be exited once `i` is greater than 15 (the [`break` statement](https://docs.python.org/3/reference/simple_stmts.html#the-break-statement)):"
   ]
  },
  {
   "cell_type": "code",
   "execution_count": 6,
   "id": "e8f49ae1-66ae-401a-95e1-4b371d9fee38",
   "metadata": {},
   "outputs": [
    {
     "name": "stdout",
     "output_type": "stream",
     "text": [
      "1\n",
      "2\n",
      "3\n",
      "4\n",
      "5\n",
      "6\n",
      "8\n",
      "9\n",
      "10\n",
      "11\n",
      "12\n",
      "14\n",
      "15\n",
      "16\n"
     ]
    }
   ],
   "source": [
    "i = 0\n",
    "while True:\n",
    "    i += 1\n",
    "    if i in {7, 13}:\n",
    "        continue\n",
    "    print(i)\n",
    "    if i > 15:\n",
    "        break"
   ]
  },
  {
   "cell_type": "markdown",
   "id": "c3f6afe4-acef-4704-bc15-d110e7db5200",
   "metadata": {},
   "source": [
    "Notice how 7 and 13 are absent from the output and how no further values get printed once `i` becomes greater than 15."
   ]
  },
  {
   "cell_type": "markdown",
   "id": "538b6a6d-ef67-46ba-8405-145a7c0967b4",
   "metadata": {},
   "source": [
    "### ... `while` / `else`\n",
    "\n",
    "Unlike other languages, Python provides an `else` branch for `while`. This allows us to execute some code in case the loop body was never once executed.\n",
    "\n",
    "Example (the condition was toggled to `False`!):"
   ]
  },
  {
   "cell_type": "code",
   "execution_count": 7,
   "id": "b8b237b9-d821-4eb1-a1e4-c12296845deb",
   "metadata": {},
   "outputs": [
    {
     "name": "stdout",
     "output_type": "stream",
     "text": [
      "Loop body didn't run\n"
     ]
    }
   ],
   "source": [
    "i = 0\n",
    "while False:\n",
    "    i += 1\n",
    "    print(i)\n",
    "    if i > 15:\n",
    "        break\n",
    "else:\n",
    "    print(\"Loop body didn't run\")"
   ]
  },
  {
   "cell_type": "markdown",
   "id": "b1b43820-a773-4de8-a0af-25ea6192b60b",
   "metadata": {},
   "source": [
    "## Compound statements: `for` / `else`\n",
    "\n",
    "At this point there won't be any gasps because of the `else`. The purpose is much the same and **yet subtly different**.\n",
    "\n",
    "The main difference between `while` and `for` is that the `for` loop is constrained by the number of items it iterates over.\n",
    "\n",
    "For example an empty list means we end up in the `else` branch:"
   ]
  },
  {
   "cell_type": "code",
   "execution_count": 8,
   "id": "66c093da-7be5-4c0a-813a-3730f80d6dc6",
   "metadata": {},
   "outputs": [
    {
     "name": "stdout",
     "output_type": "stream",
     "text": [
      "No more items\n"
     ]
    }
   ],
   "source": [
    "for c in []:\n",
    "    print(c)\n",
    "else:\n",
    "    print(\"No more items\")"
   ]
  },
  {
   "cell_type": "markdown",
   "id": "4c29d73e-7570-455f-9bc8-f7e72b5e87d7",
   "metadata": {},
   "source": [
    "But if the sequence were non-empty, say the following string, the loop body will be executed once per element in the sequence.\n",
    "\n",
    "However, in case of the `for` loop the `else` will always get executed at the end, not just when there were no items to iterate over."
   ]
  },
  {
   "cell_type": "code",
   "execution_count": 9,
   "id": "c5463fcf-49b0-40d3-8085-48dae5e44295",
   "metadata": {},
   "outputs": [
    {
     "name": "stdout",
     "output_type": "stream",
     "text": [
      "H\n",
      "e\n",
      "l\n",
      "l\n",
      "o\n",
      " \n",
      "w\n",
      "o\n",
      "r\n",
      "l\n",
      "d\n",
      "No more items\n"
     ]
    }
   ],
   "source": [
    "for c in \"Hello world\":\n",
    "    print(c)\n",
    "else:\n",
    "    print(\"No more items\")"
   ]
  },
  {
   "cell_type": "markdown",
   "id": "884a1669-976f-4f4b-aa11-2df8bfe4b821",
   "metadata": {},
   "source": [
    "We've used a list and string. But there are more [iterable](https://docs.python.org/3/glossary.html#term-iterable) types. Notably a [generator iterator](https://docs.python.org/3/glossary.html#term-generator-iterator) will be a frequent sight in `for` loops.\n",
    "\n",
    "Generators, iterators and generator iterators are more advanced concepts. But ergonomically they feel like sequences when used in the context of `for` loops."
   ]
  },
  {
   "cell_type": "markdown",
   "id": "43fcf31d-b0b6-4e04-b686-9c94fa9ebb3c",
   "metadata": {},
   "source": [
    "## Exceptions revisited"
   ]
  },
  {
   "cell_type": "markdown",
   "id": "4d77a80c-dfaa-490b-baa8-b56fa053d9f1",
   "metadata": {},
   "source": [
    "We've seen exceptions before, such as when accessing an unbound name:"
   ]
  },
  {
   "cell_type": "code",
   "execution_count": 10,
   "id": "dc388595-c6ee-4f88-9db8-241c5eb6446f",
   "metadata": {},
   "outputs": [
    {
     "ename": "NameError",
     "evalue": "name 'foobar' is not defined",
     "output_type": "error",
     "traceback": [
      "\u001b[31m---------------------------------------------------------------------------\u001b[39m",
      "\u001b[31mNameError\u001b[39m                                 Traceback (most recent call last)",
      "\u001b[36mCell\u001b[39m\u001b[36m \u001b[39m\u001b[32mIn[10]\u001b[39m\u001b[32m, line 1\u001b[39m\n\u001b[32m----> \u001b[39m\u001b[32m1\u001b[39m \u001b[43mfoobar\u001b[49m\n",
      "\u001b[31mNameError\u001b[39m: name 'foobar' is not defined"
     ]
    }
   ],
   "source": [
    "foobar"
   ]
  },
  {
   "cell_type": "markdown",
   "id": "3edf3553-5440-4b5f-b471-ae8746d483ae",
   "metadata": {},
   "source": [
    "Here a `NameError` exception was raised.\n",
    "\n",
    "An exception will \"travel up the call stack\" until it gets caught or the top-level exception handler terminates the script/program."
   ]
  },
  {
   "cell_type": "markdown",
   "id": "01ea9168-4e49-4526-984e-9da5c0084a5f",
   "metadata": {},
   "source": [
    "Here's a deliberate `raise` invocation to cause a `RuntimeError`:"
   ]
  },
  {
   "cell_type": "code",
   "execution_count": 11,
   "id": "ea3c15e2-6763-4cbf-a8bf-84836fd1bd24",
   "metadata": {},
   "outputs": [
    {
     "ename": "RuntimeError",
     "evalue": "This is a wonky error",
     "output_type": "error",
     "traceback": [
      "\u001b[31m---------------------------------------------------------------------------\u001b[39m",
      "\u001b[31mRuntimeError\u001b[39m                              Traceback (most recent call last)",
      "\u001b[36mCell\u001b[39m\u001b[36m \u001b[39m\u001b[32mIn[11]\u001b[39m\u001b[32m, line 1\u001b[39m\n\u001b[32m----> \u001b[39m\u001b[32m1\u001b[39m \u001b[38;5;28;01mraise\u001b[39;00m \u001b[38;5;167;01mRuntimeError\u001b[39;00m(\u001b[33m\"\u001b[39m\u001b[33mThis is a wonky error\u001b[39m\u001b[33m\"\u001b[39m)\n",
      "\u001b[31mRuntimeError\u001b[39m: This is a wonky error"
     ]
    }
   ],
   "source": [
    "raise RuntimeError(\"This is a wonky error\")"
   ]
  },
  {
   "cell_type": "markdown",
   "id": "0a7b39ea-4eba-43a2-9f33-4646b0ff0de8",
   "metadata": {},
   "source": [
    "All exceptions in Python are derived from [`BaseException`](https://docs.python.org/3/library/exceptions.html#BaseException), _the_ basest built-in exception type.\n",
    "\n",
    "Other exceptions typically derive from `BaseException` or a more conrete exception type. `NameError` would be an example of a more concrete exception type. These convey extra meaning and they are distinguishable from other exception types when handling exceptions."
   ]
  },
  {
   "cell_type": "markdown",
   "id": "d7005c35-0b7e-4deb-8e13-fd685efb5a73",
   "metadata": {},
   "source": [
    "## Compound statements: `try` / `finally` / `except` /  `else`\n",
    "\n",
    "To catch an exception raised by code deeper in the call path or at the current scope, you use `try`:"
   ]
  },
  {
   "cell_type": "code",
   "execution_count": 12,
   "id": "0ee24860-929a-4dfe-b511-33e2154fb58a",
   "metadata": {},
   "outputs": [
    {
     "name": "stdout",
     "output_type": "stream",
     "text": [
      "There was an exception\n"
     ]
    }
   ],
   "source": [
    "try:\n",
    "    raise RuntimeError(\"This is a wonky error\")\n",
    "except:\n",
    "    print(\"There was an exception\")"
   ]
  },
  {
   "cell_type": "markdown",
   "id": "95e9b275-c21d-4c81-b2dc-50b1aed396c2",
   "metadata": {},
   "source": [
    "Generally it is also possible have some cleanup code run, using `finally` and `else`:"
   ]
  },
  {
   "cell_type": "code",
   "execution_count": 13,
   "id": "a7571350-5f97-479c-9837-781747455a9c",
   "metadata": {},
   "outputs": [
    {
     "name": "stdout",
     "output_type": "stream",
     "text": [
      "Something flew: 'This is a wonky error'\n",
      "Cleaning up\n"
     ]
    }
   ],
   "source": [
    "try:\n",
    "    raise RuntimeError(\"This is a wonky error\")\n",
    "except RuntimeError as e:\n",
    "    print(f\"Something flew: '{e!s}'\")\n",
    "else: # only runs if there were no exceptions etc.\n",
    "    print(\"No exceptions, no return, no break, no continue ...\")\n",
    "finally: #\n",
    "    print(\"Cleaning up\")"
   ]
  },
  {
   "cell_type": "markdown",
   "id": "6b65c590-2980-4b27-a3ef-fe4cdf931162",
   "metadata": {},
   "source": [
    "We could also nest `try` blocks:"
   ]
  },
  {
   "cell_type": "code",
   "execution_count": 14,
   "id": "39fb3667-67f4-44d8-9019-999c5b9e518f",
   "metadata": {},
   "outputs": [
    {
     "name": "stdout",
     "output_type": "stream",
     "text": [
      "Cleaning up\n",
      "There was an exception\n"
     ]
    }
   ],
   "source": [
    "try:\n",
    "    try:\n",
    "        raise RuntimeError(\"This is a wonky error\")\n",
    "    finally:\n",
    "        print(\"Cleaning up\")\n",
    "except:\n",
    "    print(\"There was an exception\")"
   ]
  },
  {
   "cell_type": "markdown",
   "id": "c01da3ef-5725-4954-a263-cad850671f46",
   "metadata": {},
   "source": [
    "Aside from the built-in exception types and those provided by the standard library, we also can define our own. This is one of those cases where `pass` or the `...` comes in handy. We _just_ want to derive it to have a more specific exception type. No need to further specialize any functionality -- although we _could_ do that:"
   ]
  },
  {
   "cell_type": "code",
   "execution_count": 15,
   "id": "ef4528af-fb98-44ca-ab70-8874393d7a75",
   "metadata": {},
   "outputs": [
    {
     "name": "stdout",
     "output_type": "stream",
     "text": [
      "This is a wonky error\n"
     ]
    }
   ],
   "source": [
    "class WonkyError(BaseException):\n",
    "    pass\n",
    "\n",
    "try:\n",
    "    # foobar # <-- uncomment to see a NameError instead of WonkyError\n",
    "    raise WonkyError(\"This is a wonky error\")\n",
    "except (RuntimeError, OSError, NameError) as e:\n",
    "    print(str(e))\n",
    "except BaseException as e:\n",
    "    print(str(e))"
   ]
  },
  {
   "cell_type": "markdown",
   "id": "b504f747-43ec-44f0-adf8-2854ee9572f0",
   "metadata": {},
   "source": [
    "### Just `try` / `finally`\n",
    "\n",
    "You can also use _just_ `try` and `finally` without `except` or `else` clauses. The purpose here is to do something unconditionally once we're at the end of the `try`. We'll revisit this shortly in the context of [context managers](https://docs.python.org/3/glossary.html#term-context-manager)."
   ]
  },
  {
   "cell_type": "markdown",
   "id": "482d66be-6928-46c3-8ff3-2a023e76b785",
   "metadata": {},
   "source": [
    "## Compound statements: `with`\n",
    "\n",
    "The `with` statement is a _very_ pythonic and expressive concept, intertwined with [With Statement Context Managers](https://docs.python.org/3/reference/datamodel.html#with-statement-context-managers) and the [context management protocol](https://docs.python.org/3/glossary.html#term-context-management-protocol).\n",
    "\n",
    "The underlying principle here are the two magic methods `__enter__` and `__exit__` which need to be supported by a context manager.\n",
    "\n",
    "The `with` statement will invoke the `__enter__` method of whatever it gets returned by the statements following the `with`.\n",
    "\n",
    "Consider the following example:"
   ]
  },
  {
   "cell_type": "code",
   "execution_count": 16,
   "id": "559c0629-4e23-4eaf-8fa4-bb7ca2732d96",
   "metadata": {},
   "outputs": [
    {
     "ename": "FileNotFoundError",
     "evalue": "[Errno 2] No such file or directory: '/dev/null/nothing'",
     "output_type": "error",
     "traceback": [
      "\u001b[31m---------------------------------------------------------------------------\u001b[39m",
      "\u001b[31mFileNotFoundError\u001b[39m                         Traceback (most recent call last)",
      "\u001b[36mCell\u001b[39m\u001b[36m \u001b[39m\u001b[32mIn[16]\u001b[39m\u001b[32m, line 1\u001b[39m\n\u001b[32m----> \u001b[39m\u001b[32m1\u001b[39m \u001b[38;5;28;01mwith\u001b[39;00m \u001b[38;5;28;43mopen\u001b[39;49m\u001b[43m(\u001b[49m\u001b[33;43m\"\u001b[39;49m\u001b[33;43m/dev/null/nothing\u001b[39;49m\u001b[33;43m\"\u001b[39;49m\u001b[43m,\u001b[49m\u001b[43m \u001b[49m\u001b[33;43m\"\u001b[39;49m\u001b[33;43mr\u001b[39;49m\u001b[33;43m\"\u001b[39;49m\u001b[43m)\u001b[49m \u001b[38;5;28;01mas\u001b[39;00m f:\n\u001b[32m      2\u001b[39m     \u001b[38;5;28mprint\u001b[39m(\u001b[33mf\u001b[39m\u001b[33m\"\u001b[39m\u001b[38;5;132;01m{\u001b[39;00mf\u001b[38;5;132;01m!r}\u001b[39;00m\u001b[33m\"\u001b[39m)\n\u001b[32m      3\u001b[39m \u001b[38;5;28mprint\u001b[39m(\u001b[33m\"\u001b[39m\u001b[33mAfter the /dev/null/nothing open context\u001b[39m\u001b[33m\"\u001b[39m)\n",
      "\u001b[36mFile \u001b[39m\u001b[32m~\\Desktop\\kaffeeklatsch-python3-intro\\.venv\\Lib\\site-packages\\IPython\\core\\interactiveshell.py:343\u001b[39m, in \u001b[36m_modified_open\u001b[39m\u001b[34m(file, *args, **kwargs)\u001b[39m\n\u001b[32m    336\u001b[39m \u001b[38;5;28;01mif\u001b[39;00m file \u001b[38;5;129;01min\u001b[39;00m {\u001b[32m0\u001b[39m, \u001b[32m1\u001b[39m, \u001b[32m2\u001b[39m}:\n\u001b[32m    337\u001b[39m     \u001b[38;5;28;01mraise\u001b[39;00m \u001b[38;5;167;01mValueError\u001b[39;00m(\n\u001b[32m    338\u001b[39m         \u001b[33mf\u001b[39m\u001b[33m\"\u001b[39m\u001b[33mIPython won\u001b[39m\u001b[33m'\u001b[39m\u001b[33mt let you open fd=\u001b[39m\u001b[38;5;132;01m{\u001b[39;00mfile\u001b[38;5;132;01m}\u001b[39;00m\u001b[33m by default \u001b[39m\u001b[33m\"\u001b[39m\n\u001b[32m    339\u001b[39m         \u001b[33m\"\u001b[39m\u001b[33mas it is likely to crash IPython. If you know what you are doing, \u001b[39m\u001b[33m\"\u001b[39m\n\u001b[32m    340\u001b[39m         \u001b[33m\"\u001b[39m\u001b[33myou can use builtins\u001b[39m\u001b[33m'\u001b[39m\u001b[33m open.\u001b[39m\u001b[33m\"\u001b[39m\n\u001b[32m    341\u001b[39m     )\n\u001b[32m--> \u001b[39m\u001b[32m343\u001b[39m \u001b[38;5;28;01mreturn\u001b[39;00m \u001b[43mio_open\u001b[49m\u001b[43m(\u001b[49m\u001b[43mfile\u001b[49m\u001b[43m,\u001b[49m\u001b[43m \u001b[49m\u001b[43m*\u001b[49m\u001b[43margs\u001b[49m\u001b[43m,\u001b[49m\u001b[43m \u001b[49m\u001b[43m*\u001b[49m\u001b[43m*\u001b[49m\u001b[43mkwargs\u001b[49m\u001b[43m)\u001b[49m\n",
      "\u001b[31mFileNotFoundError\u001b[39m: [Errno 2] No such file or directory: '/dev/null/nothing'"
     ]
    }
   ],
   "source": [
    "with open(\"/dev/null/nothing\", \"r\") as f:\n",
    "    print(f\"{f!r}\")\n",
    "print(\"After the /dev/null/nothing open context\")"
   ]
  },
  {
   "cell_type": "markdown",
   "id": "a2862eb6-7a88-46de-bb56-d7ec27f9cd7c",
   "metadata": {},
   "source": [
    "What just happened? Well, `open()` -- a built-in function -- raised a `FileNotFoundError` on us. The body of the `with` statement never got to run!"
   ]
  },
  {
   "cell_type": "code",
   "execution_count": 17,
   "id": "c7d786a7-1653-44c0-853d-4b10967c3e5f",
   "metadata": {},
   "outputs": [
    {
     "name": "stdout",
     "output_type": "stream",
     "text": [
      "<_io.TextIOWrapper name='README.md' mode='r' encoding='cp1252'>\n",
      "After README.md open context\n"
     ]
    }
   ],
   "source": [
    "with open(\"README.md\", \"r\") as f:\n",
    "    print(f\"{f!r}\")\n",
    "print(\"After README.md open context\")"
   ]
  },
  {
   "cell_type": "markdown",
   "id": "e3753e22-d5bd-4f6b-b7cf-c26add6c3e8a",
   "metadata": {},
   "source": [
    "Once we provide a path that exists (the `README.md` in this repo suits us well), the body will be reached and executed. Here we use an f-string to format the object bound to the name `f` via `repr()`.\n",
    "\n",
    "The `as` allows us to bind a name to the object. You can use multiple such statements (see the documentation).\n",
    "\n",
    "The returned `f` is a context manager and prior to invoking the `with` statement's body its `__enter__` method will get called. Upon leaving the body, the `__exit__` method will then be called."
   ]
  },
  {
   "cell_type": "markdown",
   "id": "f058393c-f077-42bc-8251-92f4b714d7a5",
   "metadata": {},
   "source": [
    "### Enter `contextlib`"
   ]
  },
  {
   "cell_type": "markdown",
   "id": "208fe54e-a7a0-41a5-b0d2-45af30144bbe",
   "metadata": {},
   "source": [
    "The standard library comes with a very useful module called `contextlib`. It provides helpers to write context managers _and_ some canned context managers for us to use.\n",
    "\n",
    "For example it has the `suppress` method which allows us to suppress one or several exception types within the scope of a `with` statement:"
   ]
  },
  {
   "cell_type": "code",
   "execution_count": 18,
   "id": "6c78be90-30b2-4a52-b8fe-bc54ada1f9a9",
   "metadata": {},
   "outputs": [
    {
     "name": "stdout",
     "output_type": "stream",
     "text": [
      "After the /dev/null/nothing open context\n"
     ]
    }
   ],
   "source": [
    "import contextlib\n",
    "#from contextlib import suppress\n",
    "with contextlib.suppress(FileNotFoundError):\n",
    "    with open(\"/dev/null/nothing\", \"r\") as f:\n",
    "        print(f\"{f!r}\")\n",
    "print(\"After the /dev/null/nothing open context\")"
   ]
  },
  {
   "cell_type": "markdown",
   "id": "dabb6ca2-92d4-43ff-8a73-542752a212b5",
   "metadata": {},
   "source": [
    "Now suppose whatever we want to suppress isn't `FileNotFoundError`. In this case the exception will \"bubble up\" the call stack until eventually handled."
   ]
  },
  {
   "cell_type": "code",
   "execution_count": 19,
   "id": "e5c861c7-d050-411e-aadd-433707f3342c",
   "metadata": {},
   "outputs": [
    {
     "ename": "FileNotFoundError",
     "evalue": "[Errno 2] No such file or directory: '/dev/null/nothing'",
     "output_type": "error",
     "traceback": [
      "\u001b[31m---------------------------------------------------------------------------\u001b[39m",
      "\u001b[31mFileNotFoundError\u001b[39m                         Traceback (most recent call last)",
      "\u001b[36mCell\u001b[39m\u001b[36m \u001b[39m\u001b[32mIn[19]\u001b[39m\u001b[32m, line 4\u001b[39m\n\u001b[32m      2\u001b[39m \u001b[38;5;66;03m#from contextlib import suppress\u001b[39;00m\n\u001b[32m      3\u001b[39m \u001b[38;5;28;01mwith\u001b[39;00m contextlib.suppress(\u001b[38;5;167;01mNameError\u001b[39;00m):\n\u001b[32m----> \u001b[39m\u001b[32m4\u001b[39m     \u001b[38;5;28;01mwith\u001b[39;00m \u001b[38;5;28;43mopen\u001b[39;49m\u001b[43m(\u001b[49m\u001b[33;43m\"\u001b[39;49m\u001b[33;43m/dev/null/nothing\u001b[39;49m\u001b[33;43m\"\u001b[39;49m\u001b[43m,\u001b[49m\u001b[43m \u001b[49m\u001b[33;43m\"\u001b[39;49m\u001b[33;43mr\u001b[39;49m\u001b[33;43m\"\u001b[39;49m\u001b[43m)\u001b[49m \u001b[38;5;28;01mas\u001b[39;00m f:\n\u001b[32m      5\u001b[39m         \u001b[38;5;28mprint\u001b[39m(\u001b[33mf\u001b[39m\u001b[33m\"\u001b[39m\u001b[38;5;132;01m{\u001b[39;00mf\u001b[38;5;132;01m!r}\u001b[39;00m\u001b[33m\"\u001b[39m)\n\u001b[32m      6\u001b[39m \u001b[38;5;28mprint\u001b[39m(\u001b[33m\"\u001b[39m\u001b[33mAfter the /dev/null/nothing open context\u001b[39m\u001b[33m\"\u001b[39m)\n",
      "\u001b[36mFile \u001b[39m\u001b[32m~\\Desktop\\kaffeeklatsch-python3-intro\\.venv\\Lib\\site-packages\\IPython\\core\\interactiveshell.py:343\u001b[39m, in \u001b[36m_modified_open\u001b[39m\u001b[34m(file, *args, **kwargs)\u001b[39m\n\u001b[32m    336\u001b[39m \u001b[38;5;28;01mif\u001b[39;00m file \u001b[38;5;129;01min\u001b[39;00m {\u001b[32m0\u001b[39m, \u001b[32m1\u001b[39m, \u001b[32m2\u001b[39m}:\n\u001b[32m    337\u001b[39m     \u001b[38;5;28;01mraise\u001b[39;00m \u001b[38;5;167;01mValueError\u001b[39;00m(\n\u001b[32m    338\u001b[39m         \u001b[33mf\u001b[39m\u001b[33m\"\u001b[39m\u001b[33mIPython won\u001b[39m\u001b[33m'\u001b[39m\u001b[33mt let you open fd=\u001b[39m\u001b[38;5;132;01m{\u001b[39;00mfile\u001b[38;5;132;01m}\u001b[39;00m\u001b[33m by default \u001b[39m\u001b[33m\"\u001b[39m\n\u001b[32m    339\u001b[39m         \u001b[33m\"\u001b[39m\u001b[33mas it is likely to crash IPython. If you know what you are doing, \u001b[39m\u001b[33m\"\u001b[39m\n\u001b[32m    340\u001b[39m         \u001b[33m\"\u001b[39m\u001b[33myou can use builtins\u001b[39m\u001b[33m'\u001b[39m\u001b[33m open.\u001b[39m\u001b[33m\"\u001b[39m\n\u001b[32m    341\u001b[39m     )\n\u001b[32m--> \u001b[39m\u001b[32m343\u001b[39m \u001b[38;5;28;01mreturn\u001b[39;00m \u001b[43mio_open\u001b[49m\u001b[43m(\u001b[49m\u001b[43mfile\u001b[49m\u001b[43m,\u001b[49m\u001b[43m \u001b[49m\u001b[43m*\u001b[49m\u001b[43margs\u001b[49m\u001b[43m,\u001b[49m\u001b[43m \u001b[49m\u001b[43m*\u001b[49m\u001b[43m*\u001b[49m\u001b[43mkwargs\u001b[49m\u001b[43m)\u001b[49m\n",
      "\u001b[31mFileNotFoundError\u001b[39m: [Errno 2] No such file or directory: '/dev/null/nothing'"
     ]
    }
   ],
   "source": [
    "import contextlib\n",
    "#from contextlib import suppress\n",
    "with contextlib.suppress(NameError):\n",
    "    with open(\"/dev/null/nothing\", \"r\") as f:\n",
    "        print(f\"{f!r}\")\n",
    "print(\"After the /dev/null/nothing open context\")"
   ]
  },
  {
   "cell_type": "markdown",
   "id": "c7307608-87f1-4c2f-ac0c-4ad25bf9d9c4",
   "metadata": {},
   "source": [
    "# TO BE CONTINUED"
   ]
  }
 ],
 "metadata": {
  "kernelspec": {
   "display_name": "Python 3 (ipykernel)",
   "language": "python",
   "name": "python3"
  },
  "language_info": {
   "codemirror_mode": {
    "name": "ipython",
    "version": 3
   },
   "file_extension": ".py",
   "mimetype": "text/x-python",
   "name": "python",
   "nbconvert_exporter": "python",
   "pygments_lexer": "ipython3",
   "version": "3.13.7"
  }
 },
 "nbformat": 4,
 "nbformat_minor": 5
}
